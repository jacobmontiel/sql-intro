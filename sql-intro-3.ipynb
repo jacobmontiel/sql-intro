{
 "cells": [
  {
   "cell_type": "markdown",
   "metadata": {
    "slideshow": {
     "slide_type": "slide"
    }
   },
   "source": [
    "First, we create the tables for this section.\n",
    "\n",
    "  __Note:__ Python notebooks are independent from each other"
   ]
  },
  {
   "cell_type": "code",
   "execution_count": 1,
   "metadata": {
    "slideshow": {
     "slide_type": "fragment"
    }
   },
   "outputs": [
    {
     "data": {
      "text/plain": [
       "'Connected: None@None'"
      ]
     },
     "execution_count": 1,
     "metadata": {},
     "output_type": "execute_result"
    }
   ],
   "source": [
    "%load_ext sql       \n",
    "# Connect to an empty SQLite database\n",
    "%sql sqlite://"
   ]
  },
  {
   "cell_type": "code",
   "execution_count": 2,
   "metadata": {
    "slideshow": {
     "slide_type": "-"
    }
   },
   "outputs": [
    {
     "name": "stdout",
     "output_type": "stream",
     "text": [
      "Done.\n"
     ]
    },
    {
     "data": {
      "text/html": [
       "<table>\n",
       "    <tr>\n",
       "        <th>name</th>\n",
       "    </tr>\n",
       "</table>"
      ],
      "text/plain": [
       "[]"
      ]
     },
     "execution_count": 2,
     "metadata": {},
     "output_type": "execute_result"
    }
   ],
   "source": [
    "%%sql  -- Find all tables in the database\n",
    "SELECT name FROM sqlite_master WHERE type='table';"
   ]
  },
  {
   "cell_type": "code",
   "execution_count": 3,
   "metadata": {
    "slideshow": {
     "slide_type": "slide"
    }
   },
   "outputs": [
    {
     "name": "stdout",
     "output_type": "stream",
     "text": [
      "Done.\n",
      "Done.\n",
      "Done.\n",
      "Done.\n",
      "Done.\n",
      "Done.\n",
      "Done.\n",
      "1 rows affected.\n",
      "1 rows affected.\n",
      "1 rows affected.\n",
      "1 rows affected.\n",
      "1 rows affected.\n",
      "1 rows affected.\n",
      "1 rows affected.\n",
      "1 rows affected.\n",
      "1 rows affected.\n",
      "1 rows affected.\n",
      "1 rows affected.\n",
      "1 rows affected.\n"
     ]
    },
    {
     "data": {
      "text/plain": [
       "[]"
      ]
     },
     "execution_count": 3,
     "metadata": {},
     "output_type": "execute_result"
    }
   ],
   "source": [
    "%%sql\n",
    "\n",
    "-- Create tables\n",
    "DROP TABLE IF EXISTS Company;\n",
    "CREATE TABLE Company (\n",
    "    CName varchar(255) NOT NULL PRIMARY KEY, \n",
    "    StockPrice FLOAT, \n",
    "    Country varchar(255) \n",
    ");\n",
    "\n",
    "DROP TABLE IF EXISTS Product;\n",
    "CREATE TABLE Product (\n",
    "    PName VARCHAR(255) NOT NULL PRIMARY KEY, \n",
    "    Price FLOAT, \n",
    "    Category VARCHAR(255), \n",
    "    Manufacturer VARCHAR(255)\n",
    ");\n",
    "\n",
    "DROP TABLE IF EXISTS Purchase;\n",
    "CREATE TABLE Purchase(\n",
    "    id varchar(255) PRIMARY KEY,\n",
    "    product varchar(255) NOT NULL, \n",
    "    buyer varchar(255) NOT NULL,\n",
    "    FOREIGN KEY (product) REFERENCES Product(PName)\n",
    ");\n",
    "\n",
    "-- Insert tuples\n",
    "INSERT INTO Company VALUES ('GWorks', 25, 'USA');\n",
    "INSERT INTO Company VALUES ('Canon', 65, 'Japan');\n",
    "INSERT INTO Company VALUES ('Hitachi', 15, 'Japan');\n",
    "INSERT INTO Company VALUES ('IBM', 140, 'USA');\n",
    "\n",
    "INSERT INTO Product VALUES ('Gizmo', 19.99, 'Gadgets', 'GWorks');\n",
    "INSERT INTO Product VALUES ('Powergizmo', 29.99, 'Gadgets', 'GWorks');\n",
    "INSERT INTO Product VALUES ('SingleTouch', 149.99, 'Photography', 'Canon');\n",
    "INSERT INTO Product VALUES ('MultiTouch', 203.99, 'Household', 'Hitachi');\n",
    "\n",
    "INSERT INTO Purchase VALUES (1, 'Gizmo', 'John Doe');\n",
    "INSERT INTO Purchase VALUES (2, 'Gizmo', 'John Doe');\n",
    "INSERT INTO Purchase VALUES (3, 'SingleTouch', 'Mr Smith');\n",
    "INSERT INTO Purchase VALUES (4, 'MultiTouch', 'Mr Smith');\n",
    "INSERT INTO Purchase VALUES (5, 'Gizmo', 'Mr Smith');\n"
   ]
  },
  {
   "cell_type": "code",
   "execution_count": 4,
   "metadata": {
    "slideshow": {
     "slide_type": "slide"
    }
   },
   "outputs": [
    {
     "name": "stdout",
     "output_type": "stream",
     "text": [
      "Done.\n"
     ]
    },
    {
     "data": {
      "text/html": [
       "<table>\n",
       "    <tr>\n",
       "        <th>cid</th>\n",
       "        <th>name</th>\n",
       "        <th>type</th>\n",
       "        <th>notnull</th>\n",
       "        <th>dflt_value</th>\n",
       "        <th>pk</th>\n",
       "    </tr>\n",
       "    <tr>\n",
       "        <td>0</td>\n",
       "        <td>CName</td>\n",
       "        <td>varchar(255)</td>\n",
       "        <td>1</td>\n",
       "        <td>None</td>\n",
       "        <td>1</td>\n",
       "    </tr>\n",
       "    <tr>\n",
       "        <td>1</td>\n",
       "        <td>StockPrice</td>\n",
       "        <td>FLOAT</td>\n",
       "        <td>0</td>\n",
       "        <td>None</td>\n",
       "        <td>0</td>\n",
       "    </tr>\n",
       "    <tr>\n",
       "        <td>2</td>\n",
       "        <td>Country</td>\n",
       "        <td>varchar(255)</td>\n",
       "        <td>0</td>\n",
       "        <td>None</td>\n",
       "        <td>0</td>\n",
       "    </tr>\n",
       "</table>"
      ],
      "text/plain": [
       "[(0, 'CName', 'varchar(255)', 1, None, 1),\n",
       " (1, 'StockPrice', 'FLOAT', 0, None, 0),\n",
       " (2, 'Country', 'varchar(255)', 0, None, 0)]"
      ]
     },
     "execution_count": 4,
     "metadata": {},
     "output_type": "execute_result"
    }
   ],
   "source": [
    "%%sql  -- A useful way to retrieve information regarding a table\n",
    "pragma table_info(Company);"
   ]
  },
  {
   "cell_type": "code",
   "execution_count": 5,
   "metadata": {
    "slideshow": {
     "slide_type": "-"
    }
   },
   "outputs": [
    {
     "name": "stdout",
     "output_type": "stream",
     "text": [
      "Done.\n"
     ]
    },
    {
     "data": {
      "text/html": [
       "<table>\n",
       "    <tr>\n",
       "        <th>cid</th>\n",
       "        <th>name</th>\n",
       "        <th>type</th>\n",
       "        <th>notnull</th>\n",
       "        <th>dflt_value</th>\n",
       "        <th>pk</th>\n",
       "    </tr>\n",
       "    <tr>\n",
       "        <td>0</td>\n",
       "        <td>PName</td>\n",
       "        <td>VARCHAR(255)</td>\n",
       "        <td>1</td>\n",
       "        <td>None</td>\n",
       "        <td>1</td>\n",
       "    </tr>\n",
       "    <tr>\n",
       "        <td>1</td>\n",
       "        <td>Price</td>\n",
       "        <td>FLOAT</td>\n",
       "        <td>0</td>\n",
       "        <td>None</td>\n",
       "        <td>0</td>\n",
       "    </tr>\n",
       "    <tr>\n",
       "        <td>2</td>\n",
       "        <td>Category</td>\n",
       "        <td>VARCHAR(255)</td>\n",
       "        <td>0</td>\n",
       "        <td>None</td>\n",
       "        <td>0</td>\n",
       "    </tr>\n",
       "    <tr>\n",
       "        <td>3</td>\n",
       "        <td>Manufacturer</td>\n",
       "        <td>VARCHAR(255)</td>\n",
       "        <td>0</td>\n",
       "        <td>None</td>\n",
       "        <td>0</td>\n",
       "    </tr>\n",
       "</table>"
      ],
      "text/plain": [
       "[(0, 'PName', 'VARCHAR(255)', 1, None, 1),\n",
       " (1, 'Price', 'FLOAT', 0, None, 0),\n",
       " (2, 'Category', 'VARCHAR(255)', 0, None, 0),\n",
       " (3, 'Manufacturer', 'VARCHAR(255)', 0, None, 0)]"
      ]
     },
     "execution_count": 5,
     "metadata": {},
     "output_type": "execute_result"
    }
   ],
   "source": [
    "%%sql  -- A useful way to retrieve information regarding a table\n",
    "pragma table_info(Product);"
   ]
  },
  {
   "cell_type": "code",
   "execution_count": 6,
   "metadata": {
    "slideshow": {
     "slide_type": "-"
    }
   },
   "outputs": [
    {
     "name": "stdout",
     "output_type": "stream",
     "text": [
      "Done.\n"
     ]
    },
    {
     "data": {
      "text/html": [
       "<table>\n",
       "    <tr>\n",
       "        <th>cid</th>\n",
       "        <th>name</th>\n",
       "        <th>type</th>\n",
       "        <th>notnull</th>\n",
       "        <th>dflt_value</th>\n",
       "        <th>pk</th>\n",
       "    </tr>\n",
       "    <tr>\n",
       "        <td>0</td>\n",
       "        <td>id</td>\n",
       "        <td>varchar(255)</td>\n",
       "        <td>0</td>\n",
       "        <td>None</td>\n",
       "        <td>1</td>\n",
       "    </tr>\n",
       "    <tr>\n",
       "        <td>1</td>\n",
       "        <td>product</td>\n",
       "        <td>varchar(255)</td>\n",
       "        <td>1</td>\n",
       "        <td>None</td>\n",
       "        <td>0</td>\n",
       "    </tr>\n",
       "    <tr>\n",
       "        <td>2</td>\n",
       "        <td>buyer</td>\n",
       "        <td>varchar(255)</td>\n",
       "        <td>1</td>\n",
       "        <td>None</td>\n",
       "        <td>0</td>\n",
       "    </tr>\n",
       "</table>"
      ],
      "text/plain": [
       "[(0, 'id', 'varchar(255)', 0, None, 1),\n",
       " (1, 'product', 'varchar(255)', 1, None, 0),\n",
       " (2, 'buyer', 'varchar(255)', 1, None, 0)]"
      ]
     },
     "execution_count": 6,
     "metadata": {},
     "output_type": "execute_result"
    }
   ],
   "source": [
    "%%sql  -- A useful way to retrieve information regarding a table\n",
    "pragma table_info(Purchase);"
   ]
  },
  {
   "cell_type": "code",
   "execution_count": 7,
   "metadata": {
    "slideshow": {
     "slide_type": "slide"
    }
   },
   "outputs": [
    {
     "name": "stdout",
     "output_type": "stream",
     "text": [
      "Done.\n",
      "Done.\n",
      "Done.\n",
      "Done.\n",
      "Done.\n",
      "1 rows affected.\n",
      "1 rows affected.\n",
      "1 rows affected.\n",
      "1 rows affected.\n"
     ]
    },
    {
     "data": {
      "text/plain": [
       "[]"
      ]
     },
     "execution_count": 7,
     "metadata": {},
     "output_type": "execute_result"
    }
   ],
   "source": [
    "%%sql -- Another set of tables\n",
    "\n",
    "-- Create tables\n",
    "DROP TABLE IF EXISTS P;\n",
    "CREATE TABLE P ( \n",
    "    A INT \n",
    ");\n",
    "\n",
    "DROP TABLE IF EXISTS Q;\n",
    "CREATE TABLE Q (\n",
    "    B INT,\n",
    "    C INT\n",
    ");\n",
    "\n",
    "-- Insert tuples\n",
    "INSERT INTO P VALUES (1);\n",
    "INSERT INTO P VALUES (3);\n",
    "\n",
    "INSERT INTO Q VALUES (2,3);\n",
    "INSERT INTO Q VALUES (3,4);\n",
    "INSERT INTO Q VALUES (3,5);"
   ]
  },
  {
   "cell_type": "code",
   "execution_count": 8,
   "metadata": {
    "slideshow": {
     "slide_type": "slide"
    }
   },
   "outputs": [
    {
     "name": "stdout",
     "output_type": "stream",
     "text": [
      "Done.\n"
     ]
    },
    {
     "data": {
      "text/html": [
       "<table>\n",
       "    <tr>\n",
       "        <th>name</th>\n",
       "    </tr>\n",
       "    <tr>\n",
       "        <td>Company</td>\n",
       "    </tr>\n",
       "    <tr>\n",
       "        <td>Product</td>\n",
       "    </tr>\n",
       "    <tr>\n",
       "        <td>Purchase</td>\n",
       "    </tr>\n",
       "    <tr>\n",
       "        <td>P</td>\n",
       "    </tr>\n",
       "    <tr>\n",
       "        <td>Q</td>\n",
       "    </tr>\n",
       "</table>"
      ],
      "text/plain": [
       "[('Company',), ('Product',), ('Purchase',), ('P',), ('Q',)]"
      ]
     },
     "execution_count": 8,
     "metadata": {},
     "output_type": "execute_result"
    }
   ],
   "source": [
    "%sql SELECT name FROM sqlite_master WHERE type='table';"
   ]
  },
  {
   "cell_type": "markdown",
   "metadata": {
    "slideshow": {
     "slide_type": "skip"
    }
   },
   "source": [
    "___"
   ]
  },
  {
   "cell_type": "markdown",
   "metadata": {
    "slideshow": {
     "slide_type": "slide"
    }
   },
   "source": [
    "## SQL Aliases\n",
    "\n",
    "Used to give a table, or a column in a table, a temporary name.\n",
    "* Make column names more readable.\n",
    "* Only exist for the duration of the query.\n",
    "\n",
    "Alias Column Syntax\n",
    "```mysql\n",
    "SELECT column_name [AS] alias_name\n",
    "FROM table_name;\n",
    "```\n",
    "Alias Table Syntax\n",
    "```mysql\n",
    "SELECT column_name(s)\n",
    "FROM table_name [AS] alias_name;\n",
    "```"
   ]
  },
  {
   "cell_type": "markdown",
   "metadata": {
    "slideshow": {
     "slide_type": "skip"
    }
   },
   "source": [
    "___"
   ]
  },
  {
   "cell_type": "markdown",
   "metadata": {
    "slideshow": {
     "slide_type": "slide"
    }
   },
   "source": [
    "# Multi-Table Queries\n",
    "\n",
    "In this section\n",
    "1. Join: basics\n",
    "2. Joins: SQL semantics\n",
    "3. Set operators\n",
    "4. Nested queries\n",
    "5. Aggregation and GROUP BY"
   ]
  },
  {
   "cell_type": "markdown",
   "metadata": {
    "slideshow": {
     "slide_type": "slide"
    }
   },
   "source": [
    "## Joins\n",
    "\n",
    "A __join__ between tables returns all unique combinations of their tuples __which meet some specified join condition__.\n",
    "\n",
    "```mysql\n",
    "Product(PName, Price, Category, Manufacturer)\n",
    "Company(CName, StockPrice, Country)\n",
    "```\n",
    "\n",
    "__Note:__ Omitted attribute types in schema for brevity.\n",
    "\n",
    "> __Example:__ Find all products under $200 manufactured in Japan; return their names and prices.\n",
    "\n",
    "```mysql\n",
    "SELECT PName, Price\n",
    "FROM   Product, Company\n",
    "WHERE  Manufacturer = CName\n",
    "       AND Country = 'Japan'\n",
    "       AND Price <= 200\n",
    "```"
   ]
  },
  {
   "cell_type": "markdown",
   "metadata": {
    "slideshow": {
     "slide_type": "slide"
    }
   },
   "source": [
    "> __Example:__ Find all products under $200 manufactured in Japan; return their names and prices.\n",
    "\n",
    "```mysql\n",
    "SELECT PName, Price\n",
    "FROM   Product, Company\n",
    "WHERE  Manufacturer = CName\n",
    "       AND Country = 'Japan'\n",
    "       AND Price <= 200\n",
    "```\n",
    "\n",
    "Multiple equivalent ways to write a basic join in SQL. Example:\n",
    "\n",
    "```mysql\n",
    "SELECT PName, Price,\n",
    "FROM   Product\n",
    "JOIN   Company ON Manufacturer = CName\n",
    "                  AND Country = 'Japan'\n",
    "WHERE Price <= 200\n",
    "```"
   ]
  },
  {
   "cell_type": "markdown",
   "metadata": {
    "slideshow": {
     "slide_type": "slide"
    }
   },
   "source": [
    "> __Example:__ Find all products under $200 manufactured in Japan; return their names and prices.|"
   ]
  },
  {
   "cell_type": "code",
   "execution_count": 9,
   "metadata": {
    "slideshow": {
     "slide_type": "-"
    }
   },
   "outputs": [
    {
     "name": "stdout",
     "output_type": "stream",
     "text": [
      "Done.\n"
     ]
    },
    {
     "data": {
      "text/html": [
       "<table>\n",
       "    <tr>\n",
       "        <th>PName</th>\n",
       "        <th>Price</th>\n",
       "        <th>Category</th>\n",
       "        <th>Manufacturer</th>\n",
       "    </tr>\n",
       "    <tr>\n",
       "        <td>Gizmo</td>\n",
       "        <td>19.99</td>\n",
       "        <td>Gadgets</td>\n",
       "        <td>GWorks</td>\n",
       "    </tr>\n",
       "    <tr>\n",
       "        <td>Powergizmo</td>\n",
       "        <td>29.99</td>\n",
       "        <td>Gadgets</td>\n",
       "        <td>GWorks</td>\n",
       "    </tr>\n",
       "    <tr>\n",
       "        <td>SingleTouch</td>\n",
       "        <td>149.99</td>\n",
       "        <td>Photography</td>\n",
       "        <td>Canon</td>\n",
       "    </tr>\n",
       "    <tr>\n",
       "        <td>MultiTouch</td>\n",
       "        <td>203.99</td>\n",
       "        <td>Household</td>\n",
       "        <td>Hitachi</td>\n",
       "    </tr>\n",
       "</table>"
      ],
      "text/plain": [
       "[('Gizmo', 19.99, 'Gadgets', 'GWorks'),\n",
       " ('Powergizmo', 29.99, 'Gadgets', 'GWorks'),\n",
       " ('SingleTouch', 149.99, 'Photography', 'Canon'),\n",
       " ('MultiTouch', 203.99, 'Household', 'Hitachi')]"
      ]
     },
     "execution_count": 9,
     "metadata": {},
     "output_type": "execute_result"
    }
   ],
   "source": [
    "%%sql -- Product Table\n",
    "SELECT *\n",
    "FROM   Product;"
   ]
  },
  {
   "cell_type": "code",
   "execution_count": 10,
   "metadata": {
    "slideshow": {
     "slide_type": "-"
    }
   },
   "outputs": [
    {
     "name": "stdout",
     "output_type": "stream",
     "text": [
      "Done.\n"
     ]
    },
    {
     "data": {
      "text/html": [
       "<table>\n",
       "    <tr>\n",
       "        <th>CName</th>\n",
       "        <th>StockPrice</th>\n",
       "        <th>Country</th>\n",
       "    </tr>\n",
       "    <tr>\n",
       "        <td>GWorks</td>\n",
       "        <td>25.0</td>\n",
       "        <td>USA</td>\n",
       "    </tr>\n",
       "    <tr>\n",
       "        <td>Canon</td>\n",
       "        <td>65.0</td>\n",
       "        <td>Japan</td>\n",
       "    </tr>\n",
       "    <tr>\n",
       "        <td>Hitachi</td>\n",
       "        <td>15.0</td>\n",
       "        <td>Japan</td>\n",
       "    </tr>\n",
       "    <tr>\n",
       "        <td>IBM</td>\n",
       "        <td>140.0</td>\n",
       "        <td>USA</td>\n",
       "    </tr>\n",
       "</table>"
      ],
      "text/plain": [
       "[('GWorks', 25.0, 'USA'),\n",
       " ('Canon', 65.0, 'Japan'),\n",
       " ('Hitachi', 15.0, 'Japan'),\n",
       " ('IBM', 140.0, 'USA')]"
      ]
     },
     "execution_count": 10,
     "metadata": {},
     "output_type": "execute_result"
    }
   ],
   "source": [
    "%%sql -- Company Table\n",
    "SELECT *\n",
    "FROM   Company;"
   ]
  },
  {
   "cell_type": "markdown",
   "metadata": {
    "slideshow": {
     "slide_type": "slide"
    }
   },
   "source": [
    "> __Example:__ Find all products under $200 manufactured in Japan; return their names and prices.|"
   ]
  },
  {
   "cell_type": "code",
   "execution_count": 11,
   "metadata": {
    "slideshow": {
     "slide_type": "-"
    }
   },
   "outputs": [
    {
     "name": "stdout",
     "output_type": "stream",
     "text": [
      "Done.\n"
     ]
    },
    {
     "data": {
      "text/html": [
       "<table>\n",
       "    <tr>\n",
       "        <th>PName</th>\n",
       "        <th>Price</th>\n",
       "    </tr>\n",
       "    <tr>\n",
       "        <td>SingleTouch</td>\n",
       "        <td>149.99</td>\n",
       "    </tr>\n",
       "</table>"
      ],
      "text/plain": [
       "[('SingleTouch', 149.99)]"
      ]
     },
     "execution_count": 11,
     "metadata": {},
     "output_type": "execute_result"
    }
   ],
   "source": [
    "%%sql\n",
    "SELECT PName, Price\n",
    "FROM   Product, Company\n",
    "WHERE  Manufacturer = CName\n",
    "       AND Country = 'Japan'\n",
    "       AND Price <= 200;"
   ]
  },
  {
   "cell_type": "markdown",
   "metadata": {
    "slideshow": {
     "slide_type": "slide"
    }
   },
   "source": [
    "### Tuple Variable Ambiguity in Multi-Table\n",
    "\n",
    "Consider the following tables with the same attributes:\n",
    "\n",
    "```mysql\n",
    "Person(name, address, worksfor)\n",
    "Company(name, address)\n",
    "```\n",
    "\n",
    "In the query:\n",
    "\n",
    "```mysql\n",
    "SELECT DISTINCT name, address\n",
    "FROM            Person, Company\n",
    "WHERE           worksfor = name\n",
    "```\n",
    "\n",
    "Which name/address does this refer to?"
   ]
  },
  {
   "cell_type": "markdown",
   "metadata": {
    "slideshow": {
     "slide_type": "slide"
    }
   },
   "source": [
    "```mysql\n",
    "Person(name, address, worksfor)\n",
    "Company(name, address)\n",
    "```\n",
    "\n",
    "Equivalent ways to resolve _variable ambiguity_ :\n",
    "\n",
    "```mysql\n",
    "SELECT DISTINCT Company.name, Company.address\n",
    "FROM            Person, Company\n",
    "WHERE           Person.worksfor = Company.name\n",
    "```\n",
    "```mysql\n",
    "SELECT DISTINCT c.name, c.address\n",
    "FROM            Person p, Company c\n",
    "WHERE           p.worksfor = c.name\n",
    "```"
   ]
  },
  {
   "cell_type": "markdown",
   "metadata": {
    "slideshow": {
     "slide_type": "slide"
    }
   },
   "source": [
    "## Meaning (semantics) of SQL Queries\n",
    "\n",
    "![example](figures/semantics_ex_1.png)\n",
    "\n",
    "```mysql\n",
    "SELECT P.A\n",
    "FROM   P, Q\n",
    "WHERE  P.A = Q.B\n",
    "```"
   ]
  },
  {
   "cell_type": "markdown",
   "metadata": {
    "slideshow": {
     "slide_type": "slide"
    }
   },
   "source": [
    "Note the __semantics__ of a join\n",
    "```mysql\n",
    "SELECT P.A FROM P, Q WHERE P.A = Q.B\n",
    "```\n",
    "__Note:__ Single line query due to space limitations. _Best practice_ is to use __multiple lines__.\n",
    "![example](figures/semantics_ex_1.png)\n",
    "__1.__ Take the __cross product__ $X=P\\times Q$:\n",
    "![example](figures/semantics_ex_2.png)\n",
    "   \n",
    "  * Recall: Cross product ($A \\times B$) is the set of all unique tuples in A,B\n",
    "   \n",
    "  * Ex: $\\{a,b,c\\} \\times \\{1,2\\} = \\{(a,1), (a,2), (b,1), (b,2), (c,1), (c,2)\\}$"
   ]
  },
  {
   "cell_type": "markdown",
   "metadata": {
    "slideshow": {
     "slide_type": "slide"
    }
   },
   "source": [
    "```mysql\n",
    "SELECT P.A FROM P, Q WHERE P.A = Q.B\n",
    "```\n",
    "![example](figures/semantics_ex_1.png)\n",
    "__2.__ Apply __selection / conditions__:\n",
    "<center>$Y=\\{(p,q)\\in X|p.A==q.B\\}$</center>\n",
    "\n",
    "![example](figures/semantics_ex_3.png)\n",
    "\n",
    "  * Filtering!"
   ]
  },
  {
   "cell_type": "markdown",
   "metadata": {
    "slideshow": {
     "slide_type": "slide"
    }
   },
   "source": [
    "```mysql\n",
    "SELECT P.A FROM P, Q WHERE P.A = Q.B\n",
    "```\n",
    "![example](figures/semantics_ex_1.png)\n",
    "__3.__ Apply __projections__ to get the final result:\n",
    "<center>$Z=\\{(y.A)$ for $y \\in Y\\}$</center>\n",
    "\n",
    "![example](figures/semantics_ex_4.png)\n",
    "\n",
    "  * Return only _some_ attributes\n",
    "\n"
   ]
  },
  {
   "cell_type": "markdown",
   "metadata": {
    "slideshow": {
     "slide_type": "slide"
    }
   },
   "source": [
    "* Remembering these steps is critical for understanding the output of certain queries.\n",
    "* We say _\"semantics\"_, not _\"execution order\"_\n",
    "  * We showed _what a join means_, __NOT__ _how the DBMS executes it under the covers_"
   ]
  },
  {
   "cell_type": "code",
   "execution_count": 12,
   "metadata": {
    "slideshow": {
     "slide_type": "slide"
    }
   },
   "outputs": [
    {
     "name": "stdout",
     "output_type": "stream",
     "text": [
      "Done.\n"
     ]
    },
    {
     "data": {
      "text/html": [
       "<table>\n",
       "    <tr>\n",
       "        <th>A</th>\n",
       "    </tr>\n",
       "    <tr>\n",
       "        <td>3</td>\n",
       "    </tr>\n",
       "    <tr>\n",
       "        <td>3</td>\n",
       "    </tr>\n",
       "</table>"
      ],
      "text/plain": [
       "[(3,), (3,)]"
      ]
     },
     "execution_count": 12,
     "metadata": {},
     "output_type": "execute_result"
    }
   ],
   "source": [
    "%%sql\n",
    "SELECT P.A\n",
    "FROM   P, Q\n",
    "WHERE  P.A = Q.B"
   ]
  },
  {
   "cell_type": "markdown",
   "metadata": {
    "slideshow": {
     "slide_type": "slide"
    }
   },
   "source": [
    "### A subtlety about Joins\n",
    "\n",
    "> __Example:__ Find all countries that manufacture some product in the 'Gadgets' category.\n",
    "\n",
    "```mysql\n",
    "Product(PName, Price, Category, Manufacturer)\n",
    "Company(CName, StockPrice, Country)\n",
    "```"
   ]
  },
  {
   "cell_type": "code",
   "execution_count": 13,
   "metadata": {
    "slideshow": {
     "slide_type": "slide"
    }
   },
   "outputs": [
    {
     "name": "stdout",
     "output_type": "stream",
     "text": [
      "Done.\n"
     ]
    },
    {
     "data": {
      "text/html": [
       "<table>\n",
       "    <tr>\n",
       "        <th>PName</th>\n",
       "        <th>Price</th>\n",
       "        <th>Category</th>\n",
       "        <th>Manufacturer</th>\n",
       "    </tr>\n",
       "    <tr>\n",
       "        <td>Gizmo</td>\n",
       "        <td>19.99</td>\n",
       "        <td>Gadgets</td>\n",
       "        <td>GWorks</td>\n",
       "    </tr>\n",
       "    <tr>\n",
       "        <td>Powergizmo</td>\n",
       "        <td>29.99</td>\n",
       "        <td>Gadgets</td>\n",
       "        <td>GWorks</td>\n",
       "    </tr>\n",
       "    <tr>\n",
       "        <td>SingleTouch</td>\n",
       "        <td>149.99</td>\n",
       "        <td>Photography</td>\n",
       "        <td>Canon</td>\n",
       "    </tr>\n",
       "    <tr>\n",
       "        <td>MultiTouch</td>\n",
       "        <td>203.99</td>\n",
       "        <td>Household</td>\n",
       "        <td>Hitachi</td>\n",
       "    </tr>\n",
       "</table>"
      ],
      "text/plain": [
       "[('Gizmo', 19.99, 'Gadgets', 'GWorks'),\n",
       " ('Powergizmo', 29.99, 'Gadgets', 'GWorks'),\n",
       " ('SingleTouch', 149.99, 'Photography', 'Canon'),\n",
       " ('MultiTouch', 203.99, 'Household', 'Hitachi')]"
      ]
     },
     "execution_count": 13,
     "metadata": {},
     "output_type": "execute_result"
    }
   ],
   "source": [
    "%%sql\n",
    "SELECT *\n",
    "FROM   Product;"
   ]
  },
  {
   "cell_type": "code",
   "execution_count": 14,
   "metadata": {
    "slideshow": {
     "slide_type": "-"
    }
   },
   "outputs": [
    {
     "name": "stdout",
     "output_type": "stream",
     "text": [
      "Done.\n"
     ]
    },
    {
     "data": {
      "text/html": [
       "<table>\n",
       "    <tr>\n",
       "        <th>CName</th>\n",
       "        <th>StockPrice</th>\n",
       "        <th>Country</th>\n",
       "    </tr>\n",
       "    <tr>\n",
       "        <td>GWorks</td>\n",
       "        <td>25.0</td>\n",
       "        <td>USA</td>\n",
       "    </tr>\n",
       "    <tr>\n",
       "        <td>Canon</td>\n",
       "        <td>65.0</td>\n",
       "        <td>Japan</td>\n",
       "    </tr>\n",
       "    <tr>\n",
       "        <td>Hitachi</td>\n",
       "        <td>15.0</td>\n",
       "        <td>Japan</td>\n",
       "    </tr>\n",
       "    <tr>\n",
       "        <td>IBM</td>\n",
       "        <td>140.0</td>\n",
       "        <td>USA</td>\n",
       "    </tr>\n",
       "</table>"
      ],
      "text/plain": [
       "[('GWorks', 25.0, 'USA'),\n",
       " ('Canon', 65.0, 'Japan'),\n",
       " ('Hitachi', 15.0, 'Japan'),\n",
       " ('IBM', 140.0, 'USA')]"
      ]
     },
     "execution_count": 14,
     "metadata": {},
     "output_type": "execute_result"
    }
   ],
   "source": [
    "%%sql\n",
    "SELECT *\n",
    "FROM   Company;"
   ]
  },
  {
   "cell_type": "markdown",
   "metadata": {
    "collapsed": true,
    "slideshow": {
     "slide_type": "slide"
    }
   },
   "source": [
    "> __Example:__ Find all countries that manufacture some product in the 'Gadgets' category.\n",
    "\n",
    "```mysql\n",
    "Product(PName, Price, Category, Manufacturer)\n",
    "Company(CName, StockPrice, Country)\n",
    "```\n",
    "\n",
    "```mysql\n",
    "SELECT Country\n",
    "FROM   Product, Company\n",
    "WHERE  Manufacturer=CName AND Category='Gadgets'\n",
    "```"
   ]
  },
  {
   "cell_type": "markdown",
   "metadata": {
    "slideshow": {
     "slide_type": "slide"
    }
   },
   "source": [
    "> __Example:__ Find all countries that manufacture some product in the 'Gadgets' category."
   ]
  },
  {
   "cell_type": "code",
   "execution_count": 15,
   "metadata": {
    "slideshow": {
     "slide_type": "-"
    }
   },
   "outputs": [
    {
     "name": "stdout",
     "output_type": "stream",
     "text": [
      "Done.\n"
     ]
    },
    {
     "data": {
      "text/html": [
       "<table>\n",
       "    <tr>\n",
       "        <th>PName</th>\n",
       "        <th>Price</th>\n",
       "        <th>Category</th>\n",
       "        <th>Manufacturer</th>\n",
       "        <th>CName</th>\n",
       "        <th>StockPrice</th>\n",
       "        <th>Country</th>\n",
       "    </tr>\n",
       "    <tr>\n",
       "        <td>Gizmo</td>\n",
       "        <td>19.99</td>\n",
       "        <td>Gadgets</td>\n",
       "        <td>GWorks</td>\n",
       "        <td>GWorks</td>\n",
       "        <td>25.0</td>\n",
       "        <td>USA</td>\n",
       "    </tr>\n",
       "    <tr>\n",
       "        <td>Gizmo</td>\n",
       "        <td>19.99</td>\n",
       "        <td>Gadgets</td>\n",
       "        <td>GWorks</td>\n",
       "        <td>Canon</td>\n",
       "        <td>65.0</td>\n",
       "        <td>Japan</td>\n",
       "    </tr>\n",
       "    <tr>\n",
       "        <td>Gizmo</td>\n",
       "        <td>19.99</td>\n",
       "        <td>Gadgets</td>\n",
       "        <td>GWorks</td>\n",
       "        <td>Hitachi</td>\n",
       "        <td>15.0</td>\n",
       "        <td>Japan</td>\n",
       "    </tr>\n",
       "    <tr>\n",
       "        <td>Gizmo</td>\n",
       "        <td>19.99</td>\n",
       "        <td>Gadgets</td>\n",
       "        <td>GWorks</td>\n",
       "        <td>IBM</td>\n",
       "        <td>140.0</td>\n",
       "        <td>USA</td>\n",
       "    </tr>\n",
       "    <tr>\n",
       "        <td>Powergizmo</td>\n",
       "        <td>29.99</td>\n",
       "        <td>Gadgets</td>\n",
       "        <td>GWorks</td>\n",
       "        <td>GWorks</td>\n",
       "        <td>25.0</td>\n",
       "        <td>USA</td>\n",
       "    </tr>\n",
       "    <tr>\n",
       "        <td>Powergizmo</td>\n",
       "        <td>29.99</td>\n",
       "        <td>Gadgets</td>\n",
       "        <td>GWorks</td>\n",
       "        <td>Canon</td>\n",
       "        <td>65.0</td>\n",
       "        <td>Japan</td>\n",
       "    </tr>\n",
       "    <tr>\n",
       "        <td>Powergizmo</td>\n",
       "        <td>29.99</td>\n",
       "        <td>Gadgets</td>\n",
       "        <td>GWorks</td>\n",
       "        <td>Hitachi</td>\n",
       "        <td>15.0</td>\n",
       "        <td>Japan</td>\n",
       "    </tr>\n",
       "    <tr>\n",
       "        <td>Powergizmo</td>\n",
       "        <td>29.99</td>\n",
       "        <td>Gadgets</td>\n",
       "        <td>GWorks</td>\n",
       "        <td>IBM</td>\n",
       "        <td>140.0</td>\n",
       "        <td>USA</td>\n",
       "    </tr>\n",
       "    <tr>\n",
       "        <td>SingleTouch</td>\n",
       "        <td>149.99</td>\n",
       "        <td>Photography</td>\n",
       "        <td>Canon</td>\n",
       "        <td>GWorks</td>\n",
       "        <td>25.0</td>\n",
       "        <td>USA</td>\n",
       "    </tr>\n",
       "    <tr>\n",
       "        <td>SingleTouch</td>\n",
       "        <td>149.99</td>\n",
       "        <td>Photography</td>\n",
       "        <td>Canon</td>\n",
       "        <td>Canon</td>\n",
       "        <td>65.0</td>\n",
       "        <td>Japan</td>\n",
       "    </tr>\n",
       "    <tr>\n",
       "        <td>SingleTouch</td>\n",
       "        <td>149.99</td>\n",
       "        <td>Photography</td>\n",
       "        <td>Canon</td>\n",
       "        <td>Hitachi</td>\n",
       "        <td>15.0</td>\n",
       "        <td>Japan</td>\n",
       "    </tr>\n",
       "    <tr>\n",
       "        <td>SingleTouch</td>\n",
       "        <td>149.99</td>\n",
       "        <td>Photography</td>\n",
       "        <td>Canon</td>\n",
       "        <td>IBM</td>\n",
       "        <td>140.0</td>\n",
       "        <td>USA</td>\n",
       "    </tr>\n",
       "    <tr>\n",
       "        <td>MultiTouch</td>\n",
       "        <td>203.99</td>\n",
       "        <td>Household</td>\n",
       "        <td>Hitachi</td>\n",
       "        <td>GWorks</td>\n",
       "        <td>25.0</td>\n",
       "        <td>USA</td>\n",
       "    </tr>\n",
       "    <tr>\n",
       "        <td>MultiTouch</td>\n",
       "        <td>203.99</td>\n",
       "        <td>Household</td>\n",
       "        <td>Hitachi</td>\n",
       "        <td>Canon</td>\n",
       "        <td>65.0</td>\n",
       "        <td>Japan</td>\n",
       "    </tr>\n",
       "    <tr>\n",
       "        <td>MultiTouch</td>\n",
       "        <td>203.99</td>\n",
       "        <td>Household</td>\n",
       "        <td>Hitachi</td>\n",
       "        <td>Hitachi</td>\n",
       "        <td>15.0</td>\n",
       "        <td>Japan</td>\n",
       "    </tr>\n",
       "    <tr>\n",
       "        <td>MultiTouch</td>\n",
       "        <td>203.99</td>\n",
       "        <td>Household</td>\n",
       "        <td>Hitachi</td>\n",
       "        <td>IBM</td>\n",
       "        <td>140.0</td>\n",
       "        <td>USA</td>\n",
       "    </tr>\n",
       "</table>"
      ],
      "text/plain": [
       "[('Gizmo', 19.99, 'Gadgets', 'GWorks', 'GWorks', 25.0, 'USA'),\n",
       " ('Gizmo', 19.99, 'Gadgets', 'GWorks', 'Canon', 65.0, 'Japan'),\n",
       " ('Gizmo', 19.99, 'Gadgets', 'GWorks', 'Hitachi', 15.0, 'Japan'),\n",
       " ('Gizmo', 19.99, 'Gadgets', 'GWorks', 'IBM', 140.0, 'USA'),\n",
       " ('Powergizmo', 29.99, 'Gadgets', 'GWorks', 'GWorks', 25.0, 'USA'),\n",
       " ('Powergizmo', 29.99, 'Gadgets', 'GWorks', 'Canon', 65.0, 'Japan'),\n",
       " ('Powergizmo', 29.99, 'Gadgets', 'GWorks', 'Hitachi', 15.0, 'Japan'),\n",
       " ('Powergizmo', 29.99, 'Gadgets', 'GWorks', 'IBM', 140.0, 'USA'),\n",
       " ('SingleTouch', 149.99, 'Photography', 'Canon', 'GWorks', 25.0, 'USA'),\n",
       " ('SingleTouch', 149.99, 'Photography', 'Canon', 'Canon', 65.0, 'Japan'),\n",
       " ('SingleTouch', 149.99, 'Photography', 'Canon', 'Hitachi', 15.0, 'Japan'),\n",
       " ('SingleTouch', 149.99, 'Photography', 'Canon', 'IBM', 140.0, 'USA'),\n",
       " ('MultiTouch', 203.99, 'Household', 'Hitachi', 'GWorks', 25.0, 'USA'),\n",
       " ('MultiTouch', 203.99, 'Household', 'Hitachi', 'Canon', 65.0, 'Japan'),\n",
       " ('MultiTouch', 203.99, 'Household', 'Hitachi', 'Hitachi', 15.0, 'Japan'),\n",
       " ('MultiTouch', 203.99, 'Household', 'Hitachi', 'IBM', 140.0, 'USA')]"
      ]
     },
     "execution_count": 15,
     "metadata": {},
     "output_type": "execute_result"
    }
   ],
   "source": [
    "%%sql -- Cross product\n",
    "SELECT *\n",
    "FROM   Product, Company;"
   ]
  },
  {
   "cell_type": "markdown",
   "metadata": {
    "slideshow": {
     "slide_type": "slide"
    }
   },
   "source": [
    "> __Example:__ Find all countries that manufacture some product in the 'Gadgets' category."
   ]
  },
  {
   "cell_type": "code",
   "execution_count": 16,
   "metadata": {
    "slideshow": {
     "slide_type": "-"
    }
   },
   "outputs": [
    {
     "name": "stdout",
     "output_type": "stream",
     "text": [
      "Done.\n"
     ]
    },
    {
     "data": {
      "text/html": [
       "<table>\n",
       "    <tr>\n",
       "        <th>PName</th>\n",
       "        <th>Price</th>\n",
       "        <th>Category</th>\n",
       "        <th>Manufacturer</th>\n",
       "        <th>CName</th>\n",
       "        <th>StockPrice</th>\n",
       "        <th>Country</th>\n",
       "    </tr>\n",
       "    <tr>\n",
       "        <td>Gizmo</td>\n",
       "        <td>19.99</td>\n",
       "        <td>Gadgets</td>\n",
       "        <td>GWorks</td>\n",
       "        <td>GWorks</td>\n",
       "        <td>25.0</td>\n",
       "        <td>USA</td>\n",
       "    </tr>\n",
       "    <tr>\n",
       "        <td>Powergizmo</td>\n",
       "        <td>29.99</td>\n",
       "        <td>Gadgets</td>\n",
       "        <td>GWorks</td>\n",
       "        <td>GWorks</td>\n",
       "        <td>25.0</td>\n",
       "        <td>USA</td>\n",
       "    </tr>\n",
       "</table>"
      ],
      "text/plain": [
       "[('Gizmo', 19.99, 'Gadgets', 'GWorks', 'GWorks', 25.0, 'USA'),\n",
       " ('Powergizmo', 29.99, 'Gadgets', 'GWorks', 'GWorks', 25.0, 'USA')]"
      ]
     },
     "execution_count": 16,
     "metadata": {},
     "output_type": "execute_result"
    }
   ],
   "source": [
    "%%sql -- Filtering\n",
    "SELECT *\n",
    "FROM   Product, Company\n",
    "WHERE  Manufacturer=CName\n",
    "       AND Category='Gadgets';"
   ]
  },
  {
   "cell_type": "markdown",
   "metadata": {
    "slideshow": {
     "slide_type": "slide"
    }
   },
   "source": [
    "> __Example:__ Find all countries that manufacture some product in the 'Gadgets' category."
   ]
  },
  {
   "cell_type": "code",
   "execution_count": 17,
   "metadata": {
    "slideshow": {
     "slide_type": "-"
    }
   },
   "outputs": [
    {
     "name": "stdout",
     "output_type": "stream",
     "text": [
      "Done.\n"
     ]
    },
    {
     "data": {
      "text/html": [
       "<table>\n",
       "    <tr>\n",
       "        <th>Country</th>\n",
       "    </tr>\n",
       "    <tr>\n",
       "        <td>USA</td>\n",
       "    </tr>\n",
       "    <tr>\n",
       "        <td>USA</td>\n",
       "    </tr>\n",
       "</table>"
      ],
      "text/plain": [
       "[('USA',), ('USA',)]"
      ]
     },
     "execution_count": 17,
     "metadata": {},
     "output_type": "execute_result"
    }
   ],
   "source": [
    "%%sql -- Projection\n",
    "SELECT Country\n",
    "FROM   Product, Company\n",
    "WHERE  Manufacturer=CName\n",
    "       AND Category='Gadgets';"
   ]
  },
  {
   "cell_type": "markdown",
   "metadata": {
    "slideshow": {
     "slide_type": "-"
    }
   },
   "source": [
    "What is wrong with the result of the query? How do we solve this?"
   ]
  },
  {
   "cell_type": "markdown",
   "metadata": {
    "slideshow": {
     "slide_type": "skip"
    }
   },
   "source": [
    "___"
   ]
  },
  {
   "cell_type": "markdown",
   "metadata": {
    "slideshow": {
     "slide_type": "slide"
    }
   },
   "source": [
    "## Explicit Set Operators"
   ]
  },
  {
   "cell_type": "code",
   "execution_count": 18,
   "metadata": {
    "slideshow": {
     "slide_type": "slide"
    }
   },
   "outputs": [
    {
     "name": "stdout",
     "output_type": "stream",
     "text": [
      "Done.\n",
      "Done.\n",
      "Done.\n",
      "Done.\n",
      "Done.\n",
      "Done.\n",
      "1 rows affected.\n",
      "1 rows affected.\n",
      "1 rows affected.\n",
      "1 rows affected.\n",
      "1 rows affected.\n",
      "1 rows affected.\n",
      "1 rows affected.\n",
      "1 rows affected.\n",
      "1 rows affected.\n",
      "1 rows affected.\n",
      "1 rows affected.\n",
      "1 rows affected.\n",
      "1 rows affected.\n",
      "1 rows affected.\n"
     ]
    }
   ],
   "source": [
    "# Create tables & insert some numbers\n",
    "%sql DROP TABLE IF EXISTS R; DROP TABLE IF EXISTS S; DROP TABLE IF EXISTS T;\n",
    "%sql CREATE TABLE R (A int); CREATE TABLE S (A int); CREATE TABLE T (A int);\n",
    "for i in range(1,6):\n",
    "    %sql INSERT INTO R VALUES (:i)\n",
    "for i in range(1,10,2):\n",
    "    %sql INSERT INTO S VALUES (:i)\n",
    "for i in range(1,11,3):\n",
    "    %sql INSERT INTO T VALUES (:i)"
   ]
  },
  {
   "cell_type": "code",
   "execution_count": 19,
   "metadata": {
    "slideshow": {
     "slide_type": "slide"
    }
   },
   "outputs": [
    {
     "name": "stdout",
     "output_type": "stream",
     "text": [
      "Done.\n"
     ]
    },
    {
     "data": {
      "text/html": [
       "<table>\n",
       "    <tr>\n",
       "        <th>A</th>\n",
       "    </tr>\n",
       "    <tr>\n",
       "        <td>1</td>\n",
       "    </tr>\n",
       "    <tr>\n",
       "        <td>2</td>\n",
       "    </tr>\n",
       "    <tr>\n",
       "        <td>3</td>\n",
       "    </tr>\n",
       "    <tr>\n",
       "        <td>4</td>\n",
       "    </tr>\n",
       "    <tr>\n",
       "        <td>5</td>\n",
       "    </tr>\n",
       "</table>"
      ],
      "text/plain": [
       "[(1,), (2,), (3,), (4,), (5,)]"
      ]
     },
     "execution_count": 19,
     "metadata": {},
     "output_type": "execute_result"
    }
   ],
   "source": [
    "%sql SELECT * FROM R;"
   ]
  },
  {
   "cell_type": "code",
   "execution_count": 20,
   "metadata": {
    "slideshow": {
     "slide_type": "-"
    }
   },
   "outputs": [
    {
     "name": "stdout",
     "output_type": "stream",
     "text": [
      "Done.\n"
     ]
    },
    {
     "data": {
      "text/html": [
       "<table>\n",
       "    <tr>\n",
       "        <th>A</th>\n",
       "    </tr>\n",
       "    <tr>\n",
       "        <td>1</td>\n",
       "    </tr>\n",
       "    <tr>\n",
       "        <td>3</td>\n",
       "    </tr>\n",
       "    <tr>\n",
       "        <td>5</td>\n",
       "    </tr>\n",
       "    <tr>\n",
       "        <td>7</td>\n",
       "    </tr>\n",
       "    <tr>\n",
       "        <td>9</td>\n",
       "    </tr>\n",
       "</table>"
      ],
      "text/plain": [
       "[(1,), (3,), (5,), (7,), (9,)]"
      ]
     },
     "execution_count": 20,
     "metadata": {},
     "output_type": "execute_result"
    }
   ],
   "source": [
    "%sql SELECT * FROM S;"
   ]
  },
  {
   "cell_type": "code",
   "execution_count": 21,
   "metadata": {
    "slideshow": {
     "slide_type": "-"
    }
   },
   "outputs": [
    {
     "name": "stdout",
     "output_type": "stream",
     "text": [
      "Done.\n"
     ]
    },
    {
     "data": {
      "text/html": [
       "<table>\n",
       "    <tr>\n",
       "        <th>A</th>\n",
       "    </tr>\n",
       "    <tr>\n",
       "        <td>1</td>\n",
       "    </tr>\n",
       "    <tr>\n",
       "        <td>4</td>\n",
       "    </tr>\n",
       "    <tr>\n",
       "        <td>7</td>\n",
       "    </tr>\n",
       "    <tr>\n",
       "        <td>10</td>\n",
       "    </tr>\n",
       "</table>"
      ],
      "text/plain": [
       "[(1,), (4,), (7,), (10,)]"
      ]
     },
     "execution_count": 21,
     "metadata": {},
     "output_type": "execute_result"
    }
   ],
   "source": [
    "%sql SELECT * FROM T;"
   ]
  },
  {
   "cell_type": "markdown",
   "metadata": {
    "slideshow": {
     "slide_type": "slide"
    }
   },
   "source": [
    "## INTERSECT\n",
    "\n",
    "To combine two SELECT statements, returns only common rows returned by the two SELECT statements.\n",
    "\n",
    "\n",
    "Syntax\n",
    "```mysql\n",
    "SELECT column1 [, column2 ]\n",
    "FROM table1 [, table2 ]\n",
    "[WHERE condition]\n",
    "\n",
    "INTERSECT\n",
    "\n",
    "SELECT column1 [, column2 ]\n",
    "FROM table1 [, table2 ]\n",
    "[WHERE condition]\n",
    "```"
   ]
  },
  {
   "cell_type": "markdown",
   "metadata": {
    "slideshow": {
     "slide_type": "slide"
    }
   },
   "source": [
    "INTERSECT\n",
    "\n",
    "$\\{r.A|r.A=s.A\\}\\cap\\{r.A|r.A=t.A\\}$\n",
    "\n",
    "![intersect](figures/intersect.png)"
   ]
  },
  {
   "cell_type": "markdown",
   "metadata": {
    "slideshow": {
     "slide_type": "slide"
    }
   },
   "source": [
    "![example](figures/set_op_example.png)"
   ]
  },
  {
   "cell_type": "code",
   "execution_count": 22,
   "metadata": {
    "slideshow": {
     "slide_type": "-"
    }
   },
   "outputs": [
    {
     "name": "stdout",
     "output_type": "stream",
     "text": [
      "Done.\n"
     ]
    },
    {
     "data": {
      "text/html": [
       "<table>\n",
       "    <tr>\n",
       "        <th>A</th>\n",
       "    </tr>\n",
       "    <tr>\n",
       "        <td>1</td>\n",
       "    </tr>\n",
       "</table>"
      ],
      "text/plain": [
       "[(1,)]"
      ]
     },
     "execution_count": 22,
     "metadata": {},
     "output_type": "execute_result"
    }
   ],
   "source": [
    "%%sql\n",
    "SELECT R.A\n",
    "FROM   R, S\n",
    "WHERE  R.A=S.A\n",
    "INTERSECT\n",
    "SELECT R.A\n",
    "FROM   R, T\n",
    "WHERE  R.A=T.A;"
   ]
  },
  {
   "cell_type": "markdown",
   "metadata": {
    "slideshow": {
     "slide_type": "slide"
    }
   },
   "source": [
    "## UNION\n",
    "\n",
    "To combine the results of two or more SELECT statements without returning any duplicate rows.\n",
    "\n",
    "Syntax\n",
    "```mysql\n",
    "SELECT column_name(s) FROM table1\n",
    "UNION\n",
    "SELECT column_name(s) FROM table2;\n",
    "```"
   ]
  },
  {
   "cell_type": "markdown",
   "metadata": {
    "slideshow": {
     "slide_type": "slide"
    }
   },
   "source": [
    "UNION\n",
    "\n",
    "$\\{r.A|r.A=s.A\\}\\cup\\{r.A|r.A=t.A\\}$\n",
    "\n",
    "![union](figures/union.png)\n",
    "\n",
    "To use this UNION clause, each SELECT statement must have\n",
    "\n",
    "* The same number of columns projected\n",
    "* The same data type and\n",
    "* Have them in the same order"
   ]
  },
  {
   "cell_type": "markdown",
   "metadata": {
    "slideshow": {
     "slide_type": "slide"
    }
   },
   "source": [
    "![example](figures/set_op_example.png)"
   ]
  },
  {
   "cell_type": "code",
   "execution_count": 23,
   "metadata": {
    "slideshow": {
     "slide_type": "-"
    }
   },
   "outputs": [
    {
     "name": "stdout",
     "output_type": "stream",
     "text": [
      "Done.\n"
     ]
    },
    {
     "data": {
      "text/html": [
       "<table>\n",
       "    <tr>\n",
       "        <th>A</th>\n",
       "    </tr>\n",
       "    <tr>\n",
       "        <td>1</td>\n",
       "    </tr>\n",
       "    <tr>\n",
       "        <td>3</td>\n",
       "    </tr>\n",
       "    <tr>\n",
       "        <td>4</td>\n",
       "    </tr>\n",
       "    <tr>\n",
       "        <td>5</td>\n",
       "    </tr>\n",
       "</table>"
      ],
      "text/plain": [
       "[(1,), (3,), (4,), (5,)]"
      ]
     },
     "execution_count": 23,
     "metadata": {},
     "output_type": "execute_result"
    }
   ],
   "source": [
    "%%sql\n",
    "SELECT R.A\n",
    "FROM   R, S\n",
    "WHERE  R.A=S.A\n",
    "UNION\n",
    "SELECT R.A\n",
    "FROM   R, T\n",
    "WHERE  R.A=T.A;"
   ]
  },
  {
   "cell_type": "markdown",
   "metadata": {
    "slideshow": {
     "slide_type": "slide"
    }
   },
   "source": [
    "What if we want duplicates?\n",
    "\n",
    "## UNION ALL\n",
    "\n",
    "The UNION ALL operator is used to combine the results of two SELECT statements including duplicate rows.\n",
    "\n",
    "The same rules that apply to the UNION clause will apply to the UNION ALL operator.\n",
    "\n",
    "Syntax\n",
    "```mysql\n",
    "SELECT column_name(s) FROM table1\n",
    "UNION ALL\n",
    "SELECT column_name(s) FROM table2;\n",
    "```"
   ]
  },
  {
   "cell_type": "markdown",
   "metadata": {
    "slideshow": {
     "slide_type": "slide"
    }
   },
   "source": [
    "UNION ALL\n",
    "\n",
    "$\\{r.A|r.A=s.A\\}\\cup\\{r.A|r.A=t.A\\}$\n",
    "\n",
    "![union_all](figures/union.png)\n"
   ]
  },
  {
   "cell_type": "markdown",
   "metadata": {
    "slideshow": {
     "slide_type": "slide"
    }
   },
   "source": [
    "![example](figures/set_op_example.png)"
   ]
  },
  {
   "cell_type": "code",
   "execution_count": 24,
   "metadata": {
    "slideshow": {
     "slide_type": "-"
    }
   },
   "outputs": [
    {
     "name": "stdout",
     "output_type": "stream",
     "text": [
      "Done.\n"
     ]
    },
    {
     "data": {
      "text/html": [
       "<table>\n",
       "    <tr>\n",
       "        <th>A</th>\n",
       "    </tr>\n",
       "    <tr>\n",
       "        <td>1</td>\n",
       "    </tr>\n",
       "    <tr>\n",
       "        <td>3</td>\n",
       "    </tr>\n",
       "    <tr>\n",
       "        <td>5</td>\n",
       "    </tr>\n",
       "    <tr>\n",
       "        <td>1</td>\n",
       "    </tr>\n",
       "    <tr>\n",
       "        <td>4</td>\n",
       "    </tr>\n",
       "</table>"
      ],
      "text/plain": [
       "[(1,), (3,), (5,), (1,), (4,)]"
      ]
     },
     "execution_count": 24,
     "metadata": {},
     "output_type": "execute_result"
    }
   ],
   "source": [
    "%%sql\n",
    "SELECT R.A\n",
    "FROM   R, S\n",
    "WHERE  R.A=S.A\n",
    "UNION ALL\n",
    "SELECT R.A\n",
    "FROM   R, T\n",
    "WHERE  R.A=T.A;"
   ]
  },
  {
   "cell_type": "markdown",
   "metadata": {
    "slideshow": {
     "slide_type": "slide"
    }
   },
   "source": [
    "## EXCEPT\n",
    "\n",
    "To combine two SELECT statements, returns only the rows which are not available in the second SELECT statement.\n",
    "\n",
    "Syntax\n",
    "```mysql\n",
    "SELECT column1 [, column2 ]\n",
    "FROM table1 [, table2 ]\n",
    "[WHERE condition]\n",
    "\n",
    "EXCEPT\n",
    "\n",
    "SELECT column1 [, column2 ]\n",
    "FROM table1 [, table2 ]\n",
    "[WHERE condition]\n",
    "```\n",
    "\n",
    "__Note:__ EXCEPT, not supported by MySQL"
   ]
  },
  {
   "cell_type": "markdown",
   "metadata": {
    "slideshow": {
     "slide_type": "slide"
    }
   },
   "source": [
    "EXCEPT\n",
    "\n",
    "$\\{r.A|r.A=s.A\\} \\setminus \\{r.A|r.A=t.A\\}$\n",
    "\n",
    "![except](figures/except.png)\n",
    "\n",
    "_(Set Difference)_"
   ]
  },
  {
   "cell_type": "markdown",
   "metadata": {
    "slideshow": {
     "slide_type": "slide"
    }
   },
   "source": [
    "![example](figures/set_op_example.png)"
   ]
  },
  {
   "cell_type": "code",
   "execution_count": 25,
   "metadata": {
    "slideshow": {
     "slide_type": "-"
    }
   },
   "outputs": [
    {
     "name": "stdout",
     "output_type": "stream",
     "text": [
      "Done.\n"
     ]
    },
    {
     "data": {
      "text/html": [
       "<table>\n",
       "    <tr>\n",
       "        <th>A</th>\n",
       "    </tr>\n",
       "    <tr>\n",
       "        <td>3</td>\n",
       "    </tr>\n",
       "    <tr>\n",
       "        <td>5</td>\n",
       "    </tr>\n",
       "</table>"
      ],
      "text/plain": [
       "[(3,), (5,)]"
      ]
     },
     "execution_count": 25,
     "metadata": {},
     "output_type": "execute_result"
    }
   ],
   "source": [
    "%%sql\n",
    "SELECT R.A\n",
    "FROM   R, S\n",
    "WHERE  R.A=S.A\n",
    "EXCEPT\n",
    "SELECT R.A\n",
    "FROM   R, T\n",
    "WHERE  R.A=T.A;"
   ]
  },
  {
   "cell_type": "markdown",
   "metadata": {
    "slideshow": {
     "slide_type": "slide"
    }
   },
   "source": [
    "## INTERSECT: some subtle problems\n",
    "\n",
    "Consider the following relations\n",
    "\n",
    "```mysql\n",
    "Company(name, hq_city) AS C\n",
    "Product(pname, maker, factory_loc) AS P\n",
    "```\n",
    "\n",
    "> __Example:__ Return the headquarters of companies which make gizmos in US __AND__ China\n",
    "```mysql\n",
    "SELECT hq_city             -- Query 1\n",
    "FROM   Company, Product\n",
    "WHERE  maker = name\n",
    "       AND factory_loc = 'US'\n",
    "INTERSECT\n",
    "SELECT hq_city             -- Query 2\n",
    "FROM   Company, Product\n",
    "WHERE  maker = name\n",
    "       AND factory_loc = 'China'\n",
    "```"
   ]
  },
  {
   "cell_type": "markdown",
   "metadata": {
    "slideshow": {
     "slide_type": "slide"
    }
   },
   "source": [
    "> __Example:__ Return the headquarters of companies which make gizmos in US __AND__ China\n",
    "```mysql\n",
    "SELECT hq_city             -- Query 1\n",
    "FROM   Company, Product\n",
    "WHERE  maker = name\n",
    "       AND factory_loc = 'US'\n",
    "INTERSECT\n",
    "SELECT hq_city             -- Query 2\n",
    "FROM   Company, Product\n",
    "WHERE  maker = name\n",
    "       AND factory_loc = 'China'\n",
    "```\n",
    "\n",
    "* What if two companies have HQ in US: BUT one has factory in China (but not US) and vice versa?\n",
    " * __What goes wrong?__\n",
    "<br>\n",
    "<center>```C JOIN P on maker = name```</center>\n",
    "\n",
    "|__C.name__|__C.hq_city__|__P.pname__|__P.maker__|__P.factory_loc__|\n",
    "|:------:|:---------:|:-------:|:-------:|:-------------:|\n",
    "|  X Co. |  Seattle  |    X    |  X Co.  |      U.S.     |            <-- Query 1\n",
    "| Y Inc. |  Seattle  |    X    |  Y Inc. |     China     |            <-- Query 2"
   ]
  },
  {
   "cell_type": "markdown",
   "metadata": {
    "slideshow": {
     "slide_type": "slide"
    }
   },
   "source": [
    "> __Example:__ Return the headquarters of companies which make gizmos in US __AND__ China\n",
    "\n",
    "<center>```C JOIN P on maker = name```</center>\n",
    "\n",
    "|__C.name__|__C.hq_city__|__P.pname__|__P.maker__|__P.factory_loc__|\n",
    "|:------:|:---------:|:-------:|:-------:|:-------------:|\n",
    "|  X Co. |  Seattle  |    X    |  X Co.  |      U.S.     |            <-- Query 1\n",
    "| Y Inc. |  Seattle  |    X    |  Y Inc. |     China     |            <-- Query 2\n",
    "\n",
    "* X Co. has a factory in the US (but not China)\n",
    "* Y Inc. has a factory in China (but not US)\n",
    "\n",
    "__But Seattle is returned by the query!__\n",
    "\n",
    "We did the INTERSECT on the wrong attributes."
   ]
  },
  {
   "cell_type": "markdown",
   "metadata": {
    "slideshow": {
     "slide_type": "slide"
    }
   },
   "source": [
    "## Nested Queries\n",
    "\n",
    "* A solution for the previous example are __Nested Queries__\n",
    "* A nested query is just a SELECT statement inside of another\n",
    "* Nested queries are __always__ enclosed in parenthesis ()\n",
    "\n",
    "```mysql\n",
    "Company(name, hq_city) AS C\n",
    "Product(pname, maker, factory_loc) AS P\n",
    "```\n",
    "\n",
    "> __Example:__ Return the headquarters of companies which make gizmos in US __AND__ China\n",
    "\n",
    "```mysql\n",
    "SELECT DISTINCT hq_city\n",
    "FROM Company, Product\n",
    "WHERE maker = name\n",
    "      AND name IN (SELECT maker\n",
    "                   FROM Product\n",
    "                   WHERE factory_loc = 'US')\n",
    "      AND name IN (SELECT maker\n",
    "                   FROM Product\n",
    "                   WHERE factory_loc = 'China')\n",
    "```"
   ]
  },
  {
   "cell_type": "markdown",
   "metadata": {
    "collapsed": true,
    "slideshow": {
     "slide_type": "slide"
    }
   },
   "source": [
    "### High level note on nested Queries\n",
    "\n",
    "* We can do nested queries because SQL is ___compositional___\n",
    "  * Everything (input/outputs) is represented as multisets\n",
    "  * The output of one query can be used as the input of another (nesting)\n",
    "\n",
    "* This is __extremely__ useful"
   ]
  },
  {
   "cell_type": "markdown",
   "metadata": {
    "collapsed": true,
    "slideshow": {
     "slide_type": "slide"
    }
   },
   "source": [
    "## Sub-queries Returning Relations\n",
    "\n",
    "```mysql\n",
    "Company(CName, StockPrice, Country)\n",
    "Product(PName, Price, Category, Manufacturer)\n",
    "Purchase(id, product, buyer)\n",
    "```\n",
    "\n",
    "> __Example:__ Countries where one can find companies that manufacture products bought by 'John Doe'\n",
    "\n",
    "```mysql\n",
    "SELECT c.country\n",
    "FROM   Company c\n",
    "WHERE  c.name IN (SELECT pr.maker\n",
    "                  FROM Purchase p, Product pr\n",
    "                  WHERE p.product = pr.name\n",
    "                        AND p.buyer = 'John Doe')\n",
    "```"
   ]
  },
  {
   "cell_type": "markdown",
   "metadata": {
    "slideshow": {
     "slide_type": "slide"
    }
   },
   "source": [
    "```mysql\n",
    "Company(CName, StockPrice, Country)\n",
    "Product(PName, Price, Category, Manufacturer)\n",
    "Purchase(id, product, buyer)\n",
    "```\n",
    "\n",
    "> __Example:__ Countries where one can find companies that manufacture products bought by 'John Doe'"
   ]
  },
  {
   "cell_type": "code",
   "execution_count": 26,
   "metadata": {
    "slideshow": {
     "slide_type": "-"
    }
   },
   "outputs": [
    {
     "name": "stdout",
     "output_type": "stream",
     "text": [
      "Done.\n"
     ]
    },
    {
     "data": {
      "text/html": [
       "<table>\n",
       "    <tr>\n",
       "        <th>CName</th>\n",
       "        <th>StockPrice</th>\n",
       "        <th>Country</th>\n",
       "    </tr>\n",
       "    <tr>\n",
       "        <td>GWorks</td>\n",
       "        <td>25.0</td>\n",
       "        <td>USA</td>\n",
       "    </tr>\n",
       "    <tr>\n",
       "        <td>Canon</td>\n",
       "        <td>65.0</td>\n",
       "        <td>Japan</td>\n",
       "    </tr>\n",
       "    <tr>\n",
       "        <td>Hitachi</td>\n",
       "        <td>15.0</td>\n",
       "        <td>Japan</td>\n",
       "    </tr>\n",
       "    <tr>\n",
       "        <td>IBM</td>\n",
       "        <td>140.0</td>\n",
       "        <td>USA</td>\n",
       "    </tr>\n",
       "</table>"
      ],
      "text/plain": [
       "[('GWorks', 25.0, 'USA'),\n",
       " ('Canon', 65.0, 'Japan'),\n",
       " ('Hitachi', 15.0, 'Japan'),\n",
       " ('IBM', 140.0, 'USA')]"
      ]
     },
     "execution_count": 26,
     "metadata": {},
     "output_type": "execute_result"
    }
   ],
   "source": [
    "%sql SELECT * FROM Company;"
   ]
  },
  {
   "cell_type": "markdown",
   "metadata": {
    "slideshow": {
     "slide_type": "slide"
    }
   },
   "source": [
    "```mysql\n",
    "Company(CName, StockPrice, Country)\n",
    "Product(PName, Price, Category, Manufacturer)\n",
    "Purchase(id, product, buyer)\n",
    "```\n",
    "\n",
    "> __Example:__ Countries where one can find companies that manufacture products bought by 'John Doe'"
   ]
  },
  {
   "cell_type": "code",
   "execution_count": 27,
   "metadata": {
    "slideshow": {
     "slide_type": "-"
    }
   },
   "outputs": [
    {
     "name": "stdout",
     "output_type": "stream",
     "text": [
      "Done.\n"
     ]
    },
    {
     "data": {
      "text/html": [
       "<table>\n",
       "    <tr>\n",
       "        <th>Country</th>\n",
       "    </tr>\n",
       "    <tr>\n",
       "        <td>USA</td>\n",
       "    </tr>\n",
       "</table>"
      ],
      "text/plain": [
       "[('USA',)]"
      ]
     },
     "execution_count": 27,
     "metadata": {},
     "output_type": "execute_result"
    }
   ],
   "source": [
    "%%sql\n",
    "SELECT c.Country\n",
    "FROM Company c\n",
    "WHERE CName IN (SELECT pr.Manufacturer\n",
    "                  FROM Purchase p, Product pr\n",
    "                  WHERE p.product = pr.PName\n",
    "                        AND p.buyer = 'John Doe');"
   ]
  },
  {
   "cell_type": "markdown",
   "metadata": {
    "slideshow": {
     "slide_type": "slide"
    }
   },
   "source": [
    "```mysql\n",
    "Company(CName, StockPrice, Country)\n",
    "Product(PName, Price, Category, Manufacturer)\n",
    "Purchase(id, product, buyer)\n",
    "```\n",
    "\n",
    "> __Example:__ Countries where one can find companies that manufacture products bought by 'John Doe'\n",
    "\n",
    "Is this query equivalent?"
   ]
  },
  {
   "cell_type": "code",
   "execution_count": 28,
   "metadata": {
    "slideshow": {
     "slide_type": "-"
    }
   },
   "outputs": [
    {
     "name": "stdout",
     "output_type": "stream",
     "text": [
      "Done.\n"
     ]
    },
    {
     "data": {
      "text/html": [
       "<table>\n",
       "    <tr>\n",
       "        <th>Country</th>\n",
       "    </tr>\n",
       "    <tr>\n",
       "        <td>USA</td>\n",
       "    </tr>\n",
       "    <tr>\n",
       "        <td>USA</td>\n",
       "    </tr>\n",
       "</table>"
      ],
      "text/plain": [
       "[('USA',), ('USA',)]"
      ]
     },
     "execution_count": 28,
     "metadata": {},
     "output_type": "execute_result"
    }
   ],
   "source": [
    "%%sql\n",
    "SELECT c.Country\n",
    "FROM   Company c, Product pr, Purchase p\n",
    "WHERE  c.CName = pr.Manufacturer\n",
    "       AND pr.PName = p.product\n",
    "       AND p.buyer = 'John Doe';"
   ]
  },
  {
   "cell_type": "markdown",
   "metadata": {
    "slideshow": {
     "slide_type": "fragment"
    }
   },
   "source": [
    "Beware of duplicates!"
   ]
  },
  {
   "cell_type": "markdown",
   "metadata": {
    "slideshow": {
     "slide_type": "slide"
    }
   },
   "source": [
    "## Sub-queries Returning Relations\n",
    "\n",
    "You can also use operations of the form:\n",
    "* s > __ALL__ R\n",
    "* s < __ANY__ R\n",
    "* __EXISTS__ R\n",
    "\n",
    "__Note:__ ANY and ALL, not supported by SQLite"
   ]
  },
  {
   "cell_type": "markdown",
   "metadata": {
    "slideshow": {
     "slide_type": "slide"
    }
   },
   "source": [
    "```mysql\n",
    "Product(PName, Price, Category, Manufacturer)\n",
    "```\n",
    "\n",
    "> __Example:__ Find products that are more expensive than all those produced by 'GWorks'\n",
    "\n",
    "\n",
    "\n",
    "```mysql\n",
    "SELECT PName\n",
    "FROM Product\n",
    "WHERE price > ALL(SELECT price\n",
    "                  FROM Product\n",
    "                  WHERE maker = 'GWorks')\n",
    "```"
   ]
  },
  {
   "cell_type": "markdown",
   "metadata": {
    "slideshow": {
     "slide_type": "slide"
    }
   },
   "source": [
    "> __Example:__ Find products that are more expensive than all those produced by 'GWorks'\n",
    "\n",
    "Is there a workaround for SQLite? __YES__"
   ]
  },
  {
   "cell_type": "code",
   "execution_count": 29,
   "metadata": {
    "slideshow": {
     "slide_type": "-"
    }
   },
   "outputs": [
    {
     "name": "stdout",
     "output_type": "stream",
     "text": [
      "Done.\n"
     ]
    },
    {
     "data": {
      "text/html": [
       "<table>\n",
       "    <tr>\n",
       "        <th>PName</th>\n",
       "        <th>Price</th>\n",
       "        <th>Category</th>\n",
       "        <th>Manufacturer</th>\n",
       "    </tr>\n",
       "    <tr>\n",
       "        <td>Gizmo</td>\n",
       "        <td>19.99</td>\n",
       "        <td>Gadgets</td>\n",
       "        <td>GWorks</td>\n",
       "    </tr>\n",
       "    <tr>\n",
       "        <td>Powergizmo</td>\n",
       "        <td>29.99</td>\n",
       "        <td>Gadgets</td>\n",
       "        <td>GWorks</td>\n",
       "    </tr>\n",
       "    <tr>\n",
       "        <td>SingleTouch</td>\n",
       "        <td>149.99</td>\n",
       "        <td>Photography</td>\n",
       "        <td>Canon</td>\n",
       "    </tr>\n",
       "    <tr>\n",
       "        <td>MultiTouch</td>\n",
       "        <td>203.99</td>\n",
       "        <td>Household</td>\n",
       "        <td>Hitachi</td>\n",
       "    </tr>\n",
       "</table>"
      ],
      "text/plain": [
       "[('Gizmo', 19.99, 'Gadgets', 'GWorks'),\n",
       " ('Powergizmo', 29.99, 'Gadgets', 'GWorks'),\n",
       " ('SingleTouch', 149.99, 'Photography', 'Canon'),\n",
       " ('MultiTouch', 203.99, 'Household', 'Hitachi')]"
      ]
     },
     "execution_count": 29,
     "metadata": {},
     "output_type": "execute_result"
    }
   ],
   "source": [
    "%%sql\n",
    "SELECT *\n",
    "FROM   Product;"
   ]
  },
  {
   "cell_type": "code",
   "execution_count": 30,
   "metadata": {
    "slideshow": {
     "slide_type": "fragment"
    }
   },
   "outputs": [
    {
     "name": "stdout",
     "output_type": "stream",
     "text": [
      "Done.\n"
     ]
    },
    {
     "data": {
      "text/html": [
       "<table>\n",
       "    <tr>\n",
       "        <th>PName</th>\n",
       "    </tr>\n",
       "    <tr>\n",
       "        <td>SingleTouch</td>\n",
       "    </tr>\n",
       "    <tr>\n",
       "        <td>MultiTouch</td>\n",
       "    </tr>\n",
       "</table>"
      ],
      "text/plain": [
       "[('SingleTouch',), ('MultiTouch',)]"
      ]
     },
     "execution_count": 30,
     "metadata": {},
     "output_type": "execute_result"
    }
   ],
   "source": [
    "%%sql\n",
    "-- Workaround for SQLite\n",
    "SELECT PName\n",
    "FROM   Product\n",
    "WHERE  Price > (SELECT MAX(Price)\n",
    "                FROM   Product\n",
    "                WHERE  Manufacturer = 'GWorks');"
   ]
  },
  {
   "cell_type": "markdown",
   "metadata": {
    "slideshow": {
     "slide_type": "slide"
    }
   },
   "source": [
    "* The __EXISTS__ condition is used in combination with a subquery and is considered to be met, if the subquery returns __at least__ one row.\n",
    "\n",
    "> __Example:__ Find ‘copycat’ products, i.e. products made by competitors with the same names as products made by “GWorks”\n",
    "\n",
    "```mysql\n",
    "Product(PName, Price, Category, Manufacturer)\n",
    "```\n",
    "\n",
    "```mysql\n",
    "SELECT p1.PName\n",
    "FROM   Product p1\n",
    "WHERE  p1.Manufacturer = 'GWorks'\n",
    "       AND EXISTS(SELECT p2.PName\n",
    "                  FROM Product p2\n",
    "                  WHERE p2.Manufacturer <> 'GWorks'\n",
    "                        AND p1.PName = p2.PName)\n",
    "```\n",
    "\n",
    "Note the scoping of the variables.\n",
    "  * p1 and p2 both make reference to _Product_"
   ]
  },
  {
   "cell_type": "markdown",
   "metadata": {
    "slideshow": {
     "slide_type": "slide"
    }
   },
   "source": [
    "> __Example:__ Find ‘copycat’ products, i.e. products made by competitors with the same names as products made by “GWorks”\n",
    "\n",
    "```mysql\n",
    "Product(PName, Price, Category, Manufacturer)\n",
    "```"
   ]
  },
  {
   "cell_type": "code",
   "execution_count": 31,
   "metadata": {
    "slideshow": {
     "slide_type": "-"
    }
   },
   "outputs": [
    {
     "name": "stdout",
     "output_type": "stream",
     "text": [
      "Done.\n"
     ]
    },
    {
     "data": {
      "text/html": [
       "<table>\n",
       "    <tr>\n",
       "        <th>PName</th>\n",
       "    </tr>\n",
       "</table>"
      ],
      "text/plain": [
       "[]"
      ]
     },
     "execution_count": 31,
     "metadata": {},
     "output_type": "execute_result"
    }
   ],
   "source": [
    "%%sql\n",
    "SELECT p1.PName\n",
    "FROM   Product p1\n",
    "WHERE  p1.Manufacturer = 'GWorks'\n",
    "       AND EXISTS(SELECT p2.PName\n",
    "                  FROM Product p2\n",
    "                  WHERE p2.Manufacturer <> 'GWorks'\n",
    "                        AND p1.PName = p2.PName);"
   ]
  },
  {
   "cell_type": "markdown",
   "metadata": {
    "slideshow": {
     "slide_type": "slide"
    }
   },
   "source": [
    "## Nested Queries alternatives for INTERSECT and EXCEPT\n",
    "\n",
    "* INTERSECT and EXCEPT are not implemented in some DBMSs"
   ]
  },
  {
   "cell_type": "markdown",
   "metadata": {
    "slideshow": {
     "slide_type": "slide"
    }
   },
   "source": [
    "#### INTERSECT\n",
    "\n",
    "![intersect](figures/set_op_example.png)"
   ]
  },
  {
   "cell_type": "code",
   "execution_count": 32,
   "metadata": {
    "slideshow": {
     "slide_type": "-"
    }
   },
   "outputs": [
    {
     "name": "stdout",
     "output_type": "stream",
     "text": [
      "Done.\n"
     ]
    },
    {
     "data": {
      "text/html": [
       "<table>\n",
       "    <tr>\n",
       "        <th>A</th>\n",
       "    </tr>\n",
       "    <tr>\n",
       "        <td>1</td>\n",
       "    </tr>\n",
       "    <tr>\n",
       "        <td>3</td>\n",
       "    </tr>\n",
       "    <tr>\n",
       "        <td>5</td>\n",
       "    </tr>\n",
       "</table>"
      ],
      "text/plain": [
       "[(1,), (3,), (5,)]"
      ]
     },
     "execution_count": 32,
     "metadata": {},
     "output_type": "execute_result"
    }
   ],
   "source": [
    "%%sql\n",
    "SELECT R.A\n",
    "FROM   R\n",
    "INTERSECT\n",
    "SELECT S.A\n",
    "FROM   S;"
   ]
  },
  {
   "cell_type": "markdown",
   "metadata": {
    "slideshow": {
     "slide_type": "slide"
    }
   },
   "source": [
    "#### INTERSECT\n",
    "\n",
    "![intersect](figures/set_op_example.png)"
   ]
  },
  {
   "cell_type": "code",
   "execution_count": 33,
   "metadata": {
    "slideshow": {
     "slide_type": "-"
    }
   },
   "outputs": [
    {
     "name": "stdout",
     "output_type": "stream",
     "text": [
      "Done.\n"
     ]
    },
    {
     "data": {
      "text/html": [
       "<table>\n",
       "    <tr>\n",
       "        <th>A</th>\n",
       "    </tr>\n",
       "    <tr>\n",
       "        <td>1</td>\n",
       "    </tr>\n",
       "    <tr>\n",
       "        <td>3</td>\n",
       "    </tr>\n",
       "    <tr>\n",
       "        <td>5</td>\n",
       "    </tr>\n",
       "</table>"
      ],
      "text/plain": [
       "[(1,), (3,), (5,)]"
      ]
     },
     "execution_count": 33,
     "metadata": {},
     "output_type": "execute_result"
    }
   ],
   "source": [
    "%%sql\n",
    "SELECT R.A\n",
    "FROM   R\n",
    "WHERE  EXISTS(SELECT *\n",
    "              FROM S\n",
    "              WHERE R.A=S.A);"
   ]
  },
  {
   "cell_type": "markdown",
   "metadata": {
    "slideshow": {
     "slide_type": "slide"
    }
   },
   "source": [
    "#### EXCEPT\n",
    "\n",
    "![intersect](figures/set_op_example.png)"
   ]
  },
  {
   "cell_type": "code",
   "execution_count": 34,
   "metadata": {
    "slideshow": {
     "slide_type": "-"
    }
   },
   "outputs": [
    {
     "name": "stdout",
     "output_type": "stream",
     "text": [
      "Done.\n"
     ]
    },
    {
     "data": {
      "text/html": [
       "<table>\n",
       "    <tr>\n",
       "        <th>A</th>\n",
       "    </tr>\n",
       "    <tr>\n",
       "        <td>2</td>\n",
       "    </tr>\n",
       "    <tr>\n",
       "        <td>4</td>\n",
       "    </tr>\n",
       "</table>"
      ],
      "text/plain": [
       "[(2,), (4,)]"
      ]
     },
     "execution_count": 34,
     "metadata": {},
     "output_type": "execute_result"
    }
   ],
   "source": [
    "%%sql\n",
    "SELECT R.A\n",
    "FROM   R\n",
    "EXCEPT\n",
    "SELECT S.A\n",
    "FROM   S;"
   ]
  },
  {
   "cell_type": "markdown",
   "metadata": {
    "slideshow": {
     "slide_type": "slide"
    }
   },
   "source": [
    "#### EXCEPT\n",
    "\n",
    "![intersect](figures/set_op_example.png)"
   ]
  },
  {
   "cell_type": "code",
   "execution_count": 35,
   "metadata": {
    "slideshow": {
     "slide_type": "-"
    }
   },
   "outputs": [
    {
     "name": "stdout",
     "output_type": "stream",
     "text": [
      "Done.\n"
     ]
    },
    {
     "data": {
      "text/html": [
       "<table>\n",
       "    <tr>\n",
       "        <th>A</th>\n",
       "    </tr>\n",
       "    <tr>\n",
       "        <td>2</td>\n",
       "    </tr>\n",
       "    <tr>\n",
       "        <td>4</td>\n",
       "    </tr>\n",
       "</table>"
      ],
      "text/plain": [
       "[(2,), (4,)]"
      ]
     },
     "execution_count": 35,
     "metadata": {},
     "output_type": "execute_result"
    }
   ],
   "source": [
    "%%sql\n",
    "SELECT R.A\n",
    "FROM   R\n",
    "WHERE NOT EXISTS(SELECT *\n",
    "                 FROM S\n",
    "                 WHERE R.A=S.A);"
   ]
  },
  {
   "cell_type": "markdown",
   "metadata": {
    "slideshow": {
     "slide_type": "slide"
    }
   },
   "source": [
    "## Correlated Queries\n",
    "\n",
    "Also known as a _Synchronized Subquery_\n",
    "* Uses values from the outer query\n",
    "* Can be very powerful\n",
    "* Harder to optimize, the subquery may be evaluated once for each row processed by the outer query\n",
    "\n",
    "> __Example:__ Find products (and their manufacturers) that are more expensive than all products made by the same manufacturer before 1972\n",
    "```mysql\n",
    "Product(name, price, category, manufacturer, year)\n",
    "```\n",
    "\n",
    "```mysql\n",
    "SELECT DISTINCT x.name, x.manufacturer\n",
    "FROM   Product AS x\n",
    "WHERE  x.price > ALL(SELECT y.price\n",
    "                     FROM Product AS y\n",
    "                     WHERE x.manufacturer = y.manufacturer\n",
    "                           AND y.year < 1972)\n",
    "```\n",
    "\n"
   ]
  },
  {
   "cell_type": "markdown",
   "metadata": {
    "slideshow": {
     "slide_type": "slide"
    }
   },
   "source": [
    "### Exercise I\n",
    "\n",
    "An organism that sells tickets for football matches uses a database with the following relational schema:\n",
    "\n",
    "```\n",
    "Match(Match_ID, Date, Hour, Stadium_ID, Team_ID)\n",
    "Team(Team_ID, Name, City)\n",
    "Stadium(Stadium_ID, Name, Address, Capacity, Team_ID)\n",
    "Ticket(Ticket_ID, Match_ID, Place_Number, Category, Price)\n",
    "Sell(Sell_ID, Sell_Date, Ticket_ID, Payment_Method)\n",
    "```\n",
    "\n",
    "Write the following query in SQL:\n",
    "> What is the date for a match where 'Barcelona F.C.' plays at the 'Parc des Princes' stadium?"
   ]
  },
  {
   "cell_type": "markdown",
   "metadata": {
    "slideshow": {
     "slide_type": "skip"
    }
   },
   "source": [
    "___"
   ]
  },
  {
   "cell_type": "code",
   "execution_count": 36,
   "metadata": {
    "slideshow": {
     "slide_type": "skip"
    }
   },
   "outputs": [],
   "source": [
    "# Modify the css style\n",
    "# from IPython.core.display import HTML\n",
    "# def css_styling():\n",
    "#     styles = open(\"./style/custom.css\").read()\n",
    "#     return HTML(styles)\n",
    "# css_styling()"
   ]
  },
  {
   "cell_type": "code",
   "execution_count": null,
   "metadata": {
    "slideshow": {
     "slide_type": "skip"
    }
   },
   "outputs": [],
   "source": []
  }
 ],
 "metadata": {
  "celltoolbar": "Slideshow",
  "kernelspec": {
   "display_name": "Python [default]",
   "language": "python",
   "name": "python3"
  },
  "language_info": {
   "codemirror_mode": {
    "name": "ipython",
    "version": 3
   },
   "file_extension": ".py",
   "mimetype": "text/x-python",
   "name": "python",
   "nbconvert_exporter": "python",
   "pygments_lexer": "ipython3",
   "version": "3.5.5"
  }
 },
 "nbformat": 4,
 "nbformat_minor": 2
}
