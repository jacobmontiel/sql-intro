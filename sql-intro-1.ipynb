{
 "cells": [
  {
   "cell_type": "markdown",
   "metadata": {
    "slideshow": {
     "slide_type": "slide"
    }
   },
   "source": [
    "# SQL Introduction\n",
    "\n",
    "<br>\n",
    "<br>\n",
    "\n",
    "![SQL](figures/dilbert.gif)\n",
    "\n",
    "<sub>http://dilbert.com/strip/1995-11-17</sub>"
   ]
  },
  {
   "cell_type": "markdown",
   "metadata": {
    "slideshow": {
     "slide_type": "slide"
    }
   },
   "source": [
    "### Today's lecture\n",
    "\n",
    "1. SQL and schema definitions\n",
    "2. Single-table queries\n",
    "3. Multi-table queries"
   ]
  },
  {
   "cell_type": "markdown",
   "metadata": {
    "slideshow": {
     "slide_type": "subslide"
    }
   },
   "source": [
    "#### DISCLAIMER\n",
    "\n",
    "SQL was initially developed in the early 1970s\n",
    "* Do not reinvent the wheel, this course is based on information from:\n",
    "  - CS145 (2016), Stanford\n",
    "  - IIS (2009), EPFL\n",
    "  - INF725, SD202 (2016), Télécom ParisTech\n",
    "  - SoSe (2005), Freie Universität Berlin\n",
    "  - Database Management Systems (3rd Edition), Ramakrishnan and Gehrke.\n",
    "  - Database Systems Concepts (6th Edition), Abraham Silberschatz, Henry F. Korth, and S. Sudarshan.\n",
    "  - Database Systems: A Practical Approach to Design, Implementation and Management (6th Edition), Thomas M. Connolly and Carolyn E. Begg."
   ]
  },
  {
   "cell_type": "markdown",
   "metadata": {
    "slideshow": {
     "slide_type": "slide"
    }
   },
   "source": [
    "## What is SQL?\n",
    "\n",
    "* __S__tructured __Q__uery __L__anguage\n",
    "* A standard language for querying and manipulating data\n",
    "  * Not a programming language!\n",
    "  * __Very high-level__ <-- Highly optimized\n",
    "* Originally based upon _relational algebra_ and _tuple relational calculus_ \n",
    "* Employed as query language for most __R__elational __D__ata__B__ase __M__anagement __S__ystems (RDBMS)\n",
    "\n",
    "![RDBMS](figures/rdbms.png)"
   ]
  },
  {
   "cell_type": "markdown",
   "metadata": {
    "slideshow": {
     "slide_type": "slide"
    }
   },
   "source": [
    "### How to pronounce it?\n",
    "\n",
    "![pronunciation](figures/sql_pronunciation.png)\n",
    "\n",
    "<sub>https://www.reddit.com/r/ProgrammerHumor/comments/7z0eoj/how_to_pronounce_sql/</sub>"
   ]
  },
  {
   "cell_type": "markdown",
   "metadata": {
    "slideshow": {
     "slide_type": "slide"
    }
   },
   "source": [
    "* Many standards and implementations ... _but_\n",
    "  - Implementations are incompatible between vendors and do not necessarily completely follow standards\n",
    "<br>\n",
    "![Ranking](figures/DB-Engines-Ranking.png)"
   ]
  },
  {
   "cell_type": "markdown",
   "metadata": {
    "slideshow": {
     "slide_type": "slide"
    }
   },
   "source": [
    "## SQL consists of\n",
    "\n",
    "__Data _Definition_ Language (DDL)__\n",
    "* Define relational schemata\n",
    "* Create/alter/delete tables and their attributes\n",
    "\n",
    "__Data _Manipulation_ Language (DML)__\n",
    "* Insert/delete/modify tuples in tables\n",
    "* Query one or more tables\n",
    "\n",
    "__Data _Control_ Language (DCL)__\n",
    "* Control access to data stored in a database (Authorization)"
   ]
  },
  {
   "cell_type": "markdown",
   "metadata": {
    "slideshow": {
     "slide_type": "slide"
    }
   },
   "source": [
    "## Data Types in SQL\n",
    "\n",
    "__Atomic types__\n",
    "* Characters: CHAR[(length)], VARCHAR[(length)]\n",
    "* Numbers: INT, BIGINT, SMALLINT, FLOAT\n",
    "* Others: MONEY, DATETIME\n",
    "  \n",
    "__Tuple__ or __row__\n",
    "* A single entry having the attributes specified by the schema\n",
    "\n",
    "__Attribute__ or __column__\n",
    "* A typed data entry present in each tuple in the relation\n",
    "\n",
    "__Table__ (relation)\n",
    "* Tuples ensemble"
   ]
  },
  {
   "cell_type": "markdown",
   "metadata": {
    "slideshow": {
     "slide_type": "slide"
    }
   },
   "source": [
    "## Database Schema\n",
    "\n",
    "The organization of data as a __blueprint__ of how the database is constructed\n",
    "* Divided into database tables in the case of relational databases\n",
    "\n",
    "Example\n",
    "\n",
    "<img src=\"figures/Schema.png\" alt=\"Schema\" style=\"width: 600px;\"/>\n",
    "<center>Flights Database example</center>"
   ]
  },
  {
   "cell_type": "markdown",
   "metadata": {
    "slideshow": {
     "slide_type": "slide"
    }
   },
   "source": [
    "### Table Schema\n",
    "\n",
    "The __schema__ of a table is the _table name_, its _attributes_, and their _types_:\n",
    "\n",
    "```mysql\n",
    "Planes(ID: INT, Model: CHAR, Built_date: DATE, Number_of_seats: INT)\n",
    "```"
   ]
  },
  {
   "cell_type": "markdown",
   "metadata": {
    "slideshow": {
     "slide_type": "slide"
    }
   },
   "source": [
    "## SQL Constraints\n",
    "\n",
    "Used to specify rules for data in a table.\n",
    "\n",
    "Commonly used constraints in SQL:\n",
    "* __NOT NULL__ - Ensures that a column cannot have a NULL value\n",
    "* __UNIQUE__ - Ensures that all values in a column are different\n",
    "* __PRIMARY KEY__ - A combination of a NOT NULL and UNIQUE. Uniquely identifies each row in a table\n",
    "* __FOREIGN KEY__ - Uniquely identifies a row/record in another table\n",
    "* __CHECK__ - Ensures that all values in a column satisfies a specific condition\n",
    "* __DEFAULT__ - Sets a default value for a column when no value is specified\n",
    "* __INDEX__ - Use to create and retrieve data from the database very quickly"
   ]
  },
  {
   "cell_type": "markdown",
   "metadata": {
    "slideshow": {
     "slide_type": "slide"
    }
   },
   "source": [
    "### Keys\n",
    "\n",
    "A __key__ is a __minimal subset of attributes__ that acts as unique identifier for tuples in the relation\n",
    "\n",
    "It is an implicit constraint on tuples, if two tuples agree on the value(s) of the key, then they __must__ be the same tuple.\n",
    "\n",
    "```mysql\n",
    "Students(sid: INT, name: CHAR, gpa: FLOAT)\n",
    "```\n",
    "\n",
    "1. Which attribute would you select as a key?\n",
    "2. Is a key always guaranteed to exist?\n",
    "3. Can we have more than one key?"
   ]
  },
  {
   "cell_type": "markdown",
   "metadata": {
    "slideshow": {
     "slide_type": "slide"
    }
   },
   "source": [
    "### Foreign Keys\n",
    "\n",
    "Suppose we have two tables\n",
    "\n",
    "```mysql\n",
    "Students(sid: INT, name: CHAR, gpa: FLOAT)\n",
    "Enrolled(student_id: INT, course_id: CHAR, grade: CHAR)\n",
    "```\n",
    "\n",
    "And we want to impose the following constraint:\n",
    "* _\"Only registered students can enroll in courses\"_, in other words, a student must exist in the _Students_ table to enroll in class.\n",
    "\n",
    "<b><center>Students</center></b>\n",
    "\n",
    "| sid | name | gpa  |\n",
    "|-----|------|------|\n",
    "| 101 | Anne | 3.2  |\n",
    "| __123__ | Mary | 3.8  |\n",
    "\n",
    "<b><center>Enrolled</center></b>\n",
    "\n",
    "| student_id | course_id | grade  |\n",
    "|:----------:|:---------:|:------:|            \n",
    "|  __123__   |    564    |   A    |\n",
    "|  __123__   |    537    |   A+   |"
   ]
  },
  {
   "cell_type": "markdown",
   "metadata": {
    "slideshow": {
     "slide_type": "slide"
    }
   },
   "source": [
    "### Foreign Keys\n",
    "\n",
    "What if we try to insert a tuple into _Enrolled_, but there is no such student in _Students_?\n",
    "* INSERT is rejected -> Foreign keys are __constraints__\n",
    "\n",
    "What if we delete a student from _Students_?\n",
    "* Depending on the configuration of the database there are tree options:\n",
    "  1. An error occurs and no tuples are deleted. OR\n",
    "  2. The delete operation is propagated and all courses are removed for that student. OR\n",
    "  3. Each course for that student is set to NULL."
   ]
  },
  {
   "cell_type": "markdown",
   "metadata": {
    "slideshow": {
     "slide_type": "slide"
    }
   },
   "source": [
    "### NULL\n",
    "\n",
    "Whenever we don't have a value\n",
    "\n",
    "Can mean many things:\n",
    "* Value does not exists\n",
    "* Value exists but is unknown\n",
    "* Value not applicable\n",
    "* etc.\n",
    "\n",
    "> __Example:__ In the following table, we can add a student 'Jim' who just enrolled on his first class\n",
    "```mysql\n",
    "Students(sid: INT, name: CHAR, gpa: FLOAT)\n",
    "```\n",
    "| sid | name | gpa  |\n",
    "|-----|------|------|\n",
    "| 123 | Bob  | 3.9  |\n",
    "| 143 | Jim  | NULL |    <--\n",
    "\n",
    "We can constrain a column to be NOT NULL, e.g., \"name\""
   ]
  },
  {
   "cell_type": "markdown",
   "metadata": {
    "slideshow": {
     "slide_type": "slide"
    }
   },
   "source": [
    "### So far\n",
    "\n",
    "* Schema and Constraints are how databases understand the semantics (meaning) of the data\n",
    "* They are useful for optimization\n",
    "* SQL supports general constraints:\n",
    "  * Keys and foreign keys are the most important"
   ]
  },
  {
   "cell_type": "markdown",
   "metadata": {
    "collapsed": true,
    "slideshow": {
     "slide_type": "slide"
    }
   },
   "source": [
    "### Does it still matter?"
   ]
  },
  {
   "cell_type": "markdown",
   "metadata": {
    "slideshow": {
     "slide_type": "subslide"
    }
   },
   "source": [
    "### Does it still matter?\n",
    "\n",
    "#### YES!"
   ]
  },
  {
   "cell_type": "markdown",
   "metadata": {
    "slideshow": {
     "slide_type": "slide"
    }
   },
   "source": [
    "![bd_landscape](figures/bd_landscape_2016.jpg)"
   ]
  },
  {
   "cell_type": "markdown",
   "metadata": {
    "slideshow": {
     "slide_type": "slide"
    }
   },
   "source": [
    "![data_roles_skills](figures/data-roles-and-skills.png)"
   ]
  },
  {
   "cell_type": "markdown",
   "metadata": {
    "slideshow": {
     "slide_type": "slide"
    }
   },
   "source": [
    "![data_scientist](figures/modern_data_scientist.png)"
   ]
  },
  {
   "cell_type": "markdown",
   "metadata": {
    "slideshow": {
     "slide_type": "skip"
    }
   },
   "source": [
    "___"
   ]
  },
  {
   "cell_type": "code",
   "execution_count": 1,
   "metadata": {
    "slideshow": {
     "slide_type": "skip"
    }
   },
   "outputs": [
    {
     "data": {
      "text/html": [
       "<link href='http://fonts.googleapis.com/css?family=Fenix' rel='stylesheet' type='text/css'>\n",
       "<link href='http://fonts.googleapis.com/css?family=Alegreya+Sans:100,300,400,500,700,800,900,100italic,300italic,400italic,500italic,700italic,800italic,900italic' rel='stylesheet' type='text/css'>\n",
       "<link href='http://fonts.googleapis.com/css?family=Source+Code+Pro:300,400' rel='stylesheet' type='text/css'>\n",
       "<link href=\"https://fonts.googleapis.com/css?family=Oswald|Raleway\" rel=\"stylesheet\" type='text/css'> \n",
       "<link href=\"https://fonts.googleapis.com/css?family=Nunito\" rel=\"stylesheet\" type='text/css'> \n",
       "<style>\n",
       ".prompt{\n",
       "    display: none !important;\n",
       "}\n",
       "\n",
       ".rendered_html pre {\n",
       "    border: 1px solid #f0f6f9 !important;\n",
       "}\n",
       "\n",
       ".rendered_html pre, .rendered_html code {\n",
       "    background-color: #d3d8db !important;\n",
       "    padding: 1% !important;\n",
       "    line-height: 200% !important;\n",
       "    border-radius: 10px !important;\n",
       "}\n",
       "\n",
       "div.input_area {\n",
       "    border-radius: 10px !important;\n",
       "    background-color: #e1e1e6 !important;\n",
       "}\n",
       "\n",
       "div.cell{\n",
       "        width:85% !important;\n",
       "        margin-left:5% !important;\n",
       "        /*margin-right:auto;*/\n",
       "    }\n",
       "    h1, h2, h3, h4, h5 {\n",
       "        font-family: 'Nunito', sans-serif; !important;\n",
       "        font-style: oblique !important;\n",
       "    }\n",
       "    div.text_cell_render{\n",
       "        font-family: 'Raleway', sans-serif; !important;\n",
       "        line-height: 135% !important;\n",
       "        font-size: 120% !important;\n",
       "        width:100%;/*600px;*/\n",
       "        /*margin-left:auto;*/\n",
       "        /*margin-right:auto;*/\n",
       "    }\n",
       "    .CodeMirror{\n",
       "            font-family: \"Source Code Pro\" !important;\n",
       "\t\t\tfont-size: 100% !important;\n",
       "    }\n",
       "    .text_cell_render p{\n",
       "        text-align: justify !important;\n",
       "    }\n",
       "    .text_cell_render h1 {\n",
       "        font-weight: bold !important;\n",
       "\t\tline-height: 100% !important;\n",
       "        color:#47597A !important;\n",
       "        margin-bottom: 10.em !important;\n",
       "        margin-top: 50.em !important;\n",
       "        padding-bottom: 50.em !important;\n",
       "        padding-top: 50.em !important;\n",
       "        display: block !important;\n",
       "        font-size: 300% !important;\n",
       "        text-align: center !important;\n",
       "        border-bottom: 1px solid #47597A !important;\n",
       "        border-top: 1px solid #47597A !important;\n",
       "    }\n",
       "    .text_cell_render h2 {\n",
       "        font-weight: 200 !important;\n",
       "\tline-height: 100% !important;\n",
       "        color:#47597A !important;\n",
       "        margin-bottom: 0.5em !important;\n",
       "        margin-top: 0.5em !important;\n",
       "        display: block !important;\n",
       "        font-size: 200% !important;\n",
       "        border-bottom: 1px solid #47597A !important;\n",
       "    }\n",
       "    .text_cell_render h3 {\n",
       "        font-weight: 200 !important;\n",
       "\tline-height: 100% !important;\n",
       "        color:#47597A !important;\n",
       "        margin-bottom: 0.5em !important;\n",
       "        margin-top: 0.5em !important;\n",
       "        display: block !important;\n",
       "        font-size: 200% !important;\n",
       "    }\n",
       "    .text_cell_render h4 {\n",
       "        font-style: italic !important;\n",
       "        font-weight: bold !important;\n",
       "\tline-height: 100% !important;\n",
       "        color:#47597A !important;\n",
       "        display: block !important;\n",
       "        font-size: 100% !important;\n",
       "    }\n",
       "    .text_cell_render h5 {\n",
       "        font-weight: 200 !important;\n",
       "\tline-height: 100% !important;\n",
       "        color:#47597A !important;\n",
       "        margin-bottom: 0.5em !important;\n",
       "        margin-top: 0.5em !important;\n",
       "        display: block !important;\n",
       "        font-size: 100% !important;\n",
       "    }\n",
       "    .text_cell_render ul {\n",
       "\tlist-style-type: disc !important;\n",
       "\tcolor:#47597A !important;\n",
       "    }\n",
       "    .warning{\n",
       "        color: rgb( 240, 20, 20 ) !important;\n",
       "        }\n",
       "\n",
       "    .toc-item-num {\n",
       "        display: none;\n",
       "    }\n",
       "  \n",
       "</style>\n",
       "\n",
       "<script>\n",
       "    MathJax.Hub.Config({\n",
       "                        TeX: {\n",
       "                           extensions: [\"AMSmath.js\"],\n",
       "                           },\n",
       "                tex2jax: {\n",
       "                    inlineMath: [ ['$','$'], [\"\\\\(\",\"\\\\)\"] ],\n",
       "                    displayMath: [ ['$$','$$'], [\"\\\\[\",\"\\\\]\"] ]\n",
       "                },\n",
       "                displayAlign: 'center', // Change this to 'center' to center equations.\n",
       "                \"HTML-CSS\": {\n",
       "                    styles: {'.MathJax_Display': {\"margin\": 4}}\n",
       "                }\n",
       "        });\n",
       "</script>\n"
      ],
      "text/plain": [
       "<IPython.core.display.HTML object>"
      ]
     },
     "execution_count": 1,
     "metadata": {},
     "output_type": "execute_result"
    }
   ],
   "source": [
    "# Modify the css style\n",
    "from IPython.core.display import HTML\n",
    "def css_styling():\n",
    "    styles = open(\"./style/custom.css\").read()\n",
    "    return HTML(styles)\n",
    "css_styling()"
   ]
  },
  {
   "cell_type": "code",
   "execution_count": null,
   "metadata": {
    "collapsed": true,
    "slideshow": {
     "slide_type": "skip"
    }
   },
   "outputs": [],
   "source": []
  }
 ],
 "metadata": {
  "celltoolbar": "Slideshow",
  "kernelspec": {
   "display_name": "Python [default]",
   "language": "python",
   "name": "python3"
  },
  "language_info": {
   "codemirror_mode": {
    "name": "ipython",
    "version": 3
   },
   "file_extension": ".py",
   "mimetype": "text/x-python",
   "name": "python",
   "nbconvert_exporter": "python",
   "pygments_lexer": "ipython3",
   "version": "3.5.5"
  }
 },
 "nbformat": 4,
 "nbformat_minor": 2
}
