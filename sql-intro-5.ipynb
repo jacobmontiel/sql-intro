{
 "cells": [
  {
   "cell_type": "markdown",
   "metadata": {
    "slideshow": {
     "slide_type": "slide"
    }
   },
   "source": [
    "### Today's lecture\n",
    "\n",
    "1. Transactions\n",
    "2. Views\n",
    "3. Access Rights in SQL"
   ]
  },
  {
   "cell_type": "markdown",
   "metadata": {
    "slideshow": {
     "slide_type": "slide"
    }
   },
   "source": [
    "# Transactions\n",
    "\n",
    "* A logical unit of work consisting of one or more SQL statements\n",
    "* Atomic transaction\n",
    "  * __Fully executed__ or\n",
    "  * __Rolled back__ as if it never occurred\n",
    "* Isolation from concurrent transactions\n",
    "  * Changes made by a transaction are not visible to other concurrently executing transactions until the transaction completes"
   ]
  },
  {
   "cell_type": "markdown",
   "metadata": {
    "slideshow": {
     "slide_type": "slide"
    }
   },
   "source": [
    "* Transaction model based on two SQL statements:\n",
    "  * __COMMIT__\n",
    "  * __ROLLBACK__\n",
    "* Transactions begin implicitly\n",
    "  * Ended by commit work or rollback work\n",
    "* Default on most databases: each SQL statement commits automatically\n",
    "* Can turn off auto commit for a session (e.g. using API)"
   ]
  },
  {
   "cell_type": "markdown",
   "metadata": {
    "slideshow": {
     "slide_type": "slide"
    }
   },
   "source": [
    "# VIEWS\n",
    "\n",
    "* Definition\n",
    "* View Creation and Destruction\n",
    "* Updating Views\n",
    "* Types of Views"
   ]
  },
  {
   "cell_type": "markdown",
   "metadata": {
    "slideshow": {
     "slide_type": "slide"
    }
   },
   "source": [
    "## Views\n",
    "\n",
    "* One database often supports multiple applications\n",
    "  * Slightly different pictures of the world.\n",
    "* __Views__ help accommodate this variation without storing redundant data."
   ]
  },
  {
   "cell_type": "markdown",
   "metadata": {
    "slideshow": {
     "slide_type": "slide"
    }
   },
   "source": [
    "## Views\n",
    "\n",
    "* In some cases, it is not desirable for all users to see the entire logical model (that is, all the actual relations stored in the database.)\n",
    ">__Example:__\n",
    "```mysql\n",
    "Employee(ssn, name, department, project, salary)\n",
    "```\n",
    "Consider a person who needs to know the name and project of employees in the 'Development' department, but not the salary.  This person should see a relation described, in SQL, by\n",
    "```mysql\n",
    "SELECT name, project\n",
    "FROM   Employee\n",
    "WHERE  department = 'Development'\n",
    "```"
   ]
  },
  {
   "cell_type": "markdown",
   "metadata": {
    "slideshow": {
     "slide_type": "slide"
    }
   },
   "source": [
    "## Views\n",
    "\n",
    "* Provide a mechanism to hide certain data from the view of certain users.\n",
    "\n",
    "* Any relation that is not part of the conceptual model but is visible to a user as a _“virtual relation”_ is called a __view__.\n",
    "\n",
    "* Not physically stored."
   ]
  },
  {
   "cell_type": "markdown",
   "metadata": {
    "slideshow": {
     "slide_type": "slide"
    }
   },
   "source": [
    "## Levels of Abstraction\n",
    "\n",
    "<img style=\"float: right;\" src=\"./figures/levels_of_abstraction.png\" width=\"40%\">\n",
    "\n",
    "* Multiple views\n",
    "* A single Conceptual (Logic) Schema\n",
    "* A single Physical Schema\n"
   ]
  },
  {
   "cell_type": "markdown",
   "metadata": {
    "slideshow": {
     "slide_type": "slide"
    }
   },
   "source": [
    "## Levels of Abstraction\n",
    "\n",
    "### Physical Level\n",
    "\n",
    "<img style=\"float: right;\" src=\"./figures/levels_of_abstraction.png\" width=\"40%\">\n",
    "\n",
    "* Lowest level\n",
    "* <span style=\"color:red\">How the data is physically stored</span>\n",
    "* It includes\n",
    "  * Where the data is located\n",
    "  * File structures\n",
    "  * Access methods\n",
    "  * Indexes\n",
    "* Managed by the __Database Administrator__ "
   ]
  },
  {
   "cell_type": "markdown",
   "metadata": {
    "slideshow": {
     "slide_type": "slide"
    }
   },
   "source": [
    "## Levels of Abstraction\n",
    "\n",
    "### Conceptual or Logical Level\n",
    "\n",
    "<img style=\"float: right;\" src=\"./figures/levels_of_abstraction.png\" width=\"40%\">\n",
    "\n",
    "* Middle level\n",
    "* <span style=\"color:red\">What data</span> is in the DB\n",
    "* It consists of the schemas described <br>\n",
    "  with CREATE TABLE statements\n",
    "  * Has all the data in the DB\n",
    "  * Has no information on what a <br>\n",
    "    user views at external level\n",
    "* Managed by __Database Designers__"
   ]
  },
  {
   "cell_type": "markdown",
   "metadata": {
    "slideshow": {
     "slide_type": "slide"
    }
   },
   "source": [
    "## Levels of Abstraction\n",
    "\n",
    "### External or View Level \n",
    "\n",
    "<img style=\"float: right;\" src=\"./figures/levels_of_abstraction.png\" width=\"40%\">\n",
    "\n",
    "* Highest Level\n",
    "* Combination of base tables and views\n",
    "* Views define how certain <br>\n",
    "  Users/Groups see data:\n",
    "  * Full or partial data based on the <br>\n",
    "    business requirement\n",
    "  * Users have different views, based <br>\n",
    "    on their levels of access rights\n",
    "* Exposed to __Users/Applications__ and <br> __Database Designers__."
   ]
  },
  {
   "cell_type": "markdown",
   "metadata": {
    "slideshow": {
     "slide_type": "slide"
    }
   },
   "source": [
    "## Data Independence\n",
    "\n",
    "<img style=\"float: right;\" src=\"./figures/levels_of_abstraction.png\" width=\"40%\">\n",
    "\n",
    "* A database model exhibits <br> data independence if:\n",
    "\n",
    "> Application programs are protected <br>\n",
    "  from changes in the conceptual and <br>\n",
    "  physical schemas.\n",
    "\n",
    "* Why is this important?\n",
    "  * _Everything changes._\n",
    "\n",
    "\n",
    "* Each higher level of the data architecture <br> is immune to changes of the next lower <br> level of the architecture."
   ]
  },
  {
   "cell_type": "markdown",
   "metadata": {
    "slideshow": {
     "slide_type": "slide"
    }
   },
   "source": [
    "## Data Independence Types\n",
    "\n",
    "<img style=\"float: right;\" src=\"./figures/levels_of_abstraction.png\" width=\"40%\">\n",
    "\n",
    "* __Physical data independence__ \n",
    "  * Can modify the _physical schema_ <br> without causing application <br> programs to be rewritten.\n",
    "\n",
    "\n",
    "* __Logical data independence__\n",
    "  * Can modify the _logical schema_ <br> without causing application <br> program to be rewritten."
   ]
  },
  {
   "cell_type": "markdown",
   "metadata": {
    "slideshow": {
     "slide_type": "slide"
    }
   },
   "source": [
    "## View Creation and Destruction\n",
    "\n",
    "* A view is defined using the create view statement which has the form\n",
    "```mysql\n",
    "CREATE VIEW view_name AS\n",
    "< QUERY >\n",
    "[WITH CHECK OPTION]\n",
    "```\n",
    "where < query > is any legal SQL expression.\n",
    "\n",
    "* Once a view is defined, the view name can be used to refer to the __virtual relation__ that the view generates."
   ]
  },
  {
   "cell_type": "markdown",
   "metadata": {
    "slideshow": {
     "slide_type": "slide"
    }
   },
   "source": [
    "## View Creation and Destruction\n",
    "\n",
    "* __CHECK OPTION__\n",
    "  * Ensures that all UPDATE and INSERTs operations satisfy the condition(s) in the view definition.\n",
    "  * Otherwise, the UPDATE or INSERT returns an error.\n",
    "  * Not implemented in SQLite\n",
    "\n",
    "\n",
    "* __Destruction__\n",
    "```mysql\n",
    "DROP VIEW <view_name>\n",
    "```"
   ]
  },
  {
   "cell_type": "markdown",
   "metadata": {
    "slideshow": {
     "slide_type": "slide"
    }
   },
   "source": [
    "## Views for Security\n",
    "\n",
    "> __Example:__\n",
    "  ```mysql\n",
    "  Student(studID, name, address, major, gpa)\n",
    "  ```\n",
    "  * This is a view of the Student table without the gpa field.\n",
    "    ```mysql\n",
    "    CREATE VIEW SecStudent AS\n",
    "    SELECT studID, name, address, major\n",
    "    FROM   student\n",
    "    ```"
   ]
  },
  {
   "cell_type": "markdown",
   "metadata": {
    "slideshow": {
     "slide_type": "slide"
    }
   },
   "source": [
    "## Views for Extensibility\n",
    "\n",
    "> __Example:__\n",
    "  * A company's database includes a relation: \n",
    "  ```mysql\n",
    "  Part (PartID, weight,...)\n",
    "  ```\n",
    "  * Weight is stored in pounds\n",
    "  * The Company is purchased by a firm that uses metric weights\n",
    "  * Databases must be integrated and use Kg.\n",
    "    * But old applications use pounds."
   ]
  },
  {
   "cell_type": "markdown",
   "metadata": {
    "slideshow": {
     "slide_type": "slide"
    }
   },
   "source": [
    "## Views for Extensibility\n",
    "\n",
    "> * Solution:\n",
    "  * Base table with kilograms becomes _MetricPart_ for the integrated company\n",
    "  ```mysql\n",
    "  CREATE VIEW MetricPart AS\n",
    "  SELECT PartID, 2.2046*weight,       -- no other changes\n",
    "  FROM Part\n",
    "  ```\n",
    "  * Old programs still call the table _Part_"
   ]
  },
  {
   "cell_type": "markdown",
   "metadata": {
    "slideshow": {
     "slide_type": "slide"
    }
   },
   "source": [
    "## Data Partitioning\n",
    "\n",
    "* Sometimes the data of a database is partitioned.\n",
    "\n",
    "\n",
    "* __Horizontal:__ projection on certain attributes\n",
    "  * Break up our table based on rows\n",
    "  * Useful when some attributes are bulky or rarely used\n",
    "  * Distributed databases\n",
    "\n",
    "\n",
    "* __Vertical:__ selection on certain values (ClientsParis, ClientsLyon)\n",
    "  * Splitting out extra columns into their own table(s)"
   ]
  },
  {
   "cell_type": "markdown",
   "metadata": {
    "slideshow": {
     "slide_type": "slide"
    }
   },
   "source": [
    "## Another Example\n",
    "\n",
    "> \n",
    "* Consider the following relations\n",
    "  ```mysql\n",
    "  Person(name, city)\n",
    "  Purchase(buyer, seller, product, store)\n",
    "  Product(name, maker, category)\n",
    "  ```\n",
    "  ```mysql\n",
    "  CREATE VIEW  SeattleView  AS\n",
    "  SELECT buyer, seller, product, store\n",
    "  FROM   Person, Purchase\n",
    "  WHERE  Person.city = 'Seattle'\n",
    "         AND Person.name = Purchase.buyer\n",
    "  ```\n",
    "* We have a new 'virtual table':\n",
    "  ```mysql\n",
    "  SeattleView(buyer, seller, product, store)\n",
    "  ```"
   ]
  },
  {
   "cell_type": "markdown",
   "metadata": {
    "slideshow": {
     "slide_type": "slide"
    }
   },
   "source": [
    "## Using (Querying) a View\n",
    "* Transparency for the user\n",
    "  * Handled as tables in the database\n",
    "* Simplify the user's queries\n",
    "* Useful in architectures client-server\n",
    "\n",
    "<img src=\"./figures/query_view.png\" width=\"60%\">"
   ]
  },
  {
   "cell_type": "markdown",
   "metadata": {
    "slideshow": {
     "slide_type": "slide"
    }
   },
   "source": [
    "## Using (Querying) a View\n",
    "\n",
    "> Query using SeatleView\n",
    "  ```mysql\n",
    "  SeattleView(buyer, seller, product, store)\n",
    "  Product(name, maker, category)\n",
    "  ```\n",
    "  ```mysql\n",
    "  SELECT name, store\n",
    "  FROM   SeattleView, Product\n",
    "  WHERE  SeattleView.product = Product.name\n",
    "         AND Product.category = 'shoes'\n",
    "  ```\n",
    "\n",
    "* When you enter a query that mentions a __view__ in the FROM clause, the DBMS expands/rewrites your query to include the view definition."
   ]
  },
  {
   "cell_type": "markdown",
   "metadata": {
    "slideshow": {
     "slide_type": "slide"
    }
   },
   "source": [
    "## View Expansion\n",
    "\n",
    "* Query using a __view__\n",
    "```mysql\n",
    "SELECT name, SeattleView.store\n",
    "FROM   SeattleView, Product\n",
    "WHERE  SeattleView.product = Product.name\n",
    "       AND Product.category = 'shoes'\n",
    "```\n",
    "\n",
    "* Expanded query\n",
    "```mysql\n",
    "SELECT name, Purchase.store\n",
    "FROM   Person, Purchase, Product\n",
    "WHERE  Person.city = 'Seattle'\n",
    "       AND Person.name = Purchase.buyer\n",
    "       AND Purchase.product = Product.name\n",
    "       AND Product.category = 'shoes'\n",
    "```"
   ]
  },
  {
   "cell_type": "markdown",
   "metadata": {
    "slideshow": {
     "slide_type": "slide"
    }
   },
   "source": [
    "## Another Example\n",
    "\n",
    "* Query using a __view__\n",
    "  ```mysql\n",
    "  SELECT  buyer, seller\n",
    "  FROM    SeattleView\n",
    "  WHERE   product= 'gizmo'\n",
    "  ```\n",
    "\n",
    "* Expanded query\n",
    "  ```mysql\n",
    "  SELECT buyer, seller\n",
    "  FROM   Person, Purchase\n",
    "  WHERE  Person.city = 'Seattle'\n",
    "         AND Person.name = Purchase.buyer\n",
    "         AND Purchase.product= 'gizmo'\n",
    "  ```"
   ]
  },
  {
   "cell_type": "markdown",
   "metadata": {
    "slideshow": {
     "slide_type": "slide"
    }
   },
   "source": [
    "## Views Defined Using Other Views\n",
    "\n",
    "* One view may be used in the expression defining another view \n",
    "* A view relation $v_1$ is said to <span style=\"color:red\"><b>depend directly on</b></span> a view relation $v_2$  if $v_2$ is used in the expression defining $v_1$\n",
    "* A view relation $v_1$ is said to <span style=\"color:red\"><b>depend on</b></span> view relation $v_2$ if either $v_1$ depends directly on $v_2$ or there is a path of dependencies from $v_1$ to $v_2$ \n",
    "* A view relation $v$ is said to be <span style=\"color:red\"><b>recursive</b></span> if it depends on itself."
   ]
  },
  {
   "cell_type": "markdown",
   "metadata": {
    "slideshow": {
     "slide_type": "slide"
    }
   },
   "source": [
    "## Updating Views\n",
    "\n",
    "* How can we insert a tuple into a table that _doesn't exist_?\n",
    "\n",
    "> \n",
    "```mysql\n",
    "Employee(ssn, name, department, project, salary)\n",
    "```\n",
    "```mysql\n",
    "CREATE VIEW  Developers AS\n",
    "   SELECT name, project\n",
    "   FROM  Employee\n",
    "   WHERE department = 'Development'\n",
    "```"
   ]
  },
  {
   "cell_type": "markdown",
   "metadata": {
    "slideshow": {
     "slide_type": "slide"
    }
   },
   "source": [
    "## Updating Views\n",
    "\n",
    "* How can we insert a tuple into a table that _\"doesn't exist\"_?\n",
    "\n",
    "> __Example:__\n",
    "```mysql\n",
    "Employee(ssn, name, department, project, salary)\n",
    "Developers(name, project)\n",
    "```\n",
    "The following insertion:\n",
    "```mysql\n",
    "INSERT INTO  Developers   \n",
    "VALUES('Joe', 'Optimizer')\n",
    "```\n",
    "becomes:\n",
    "```mysql\n",
    "INSERT INTO  Employee \n",
    "VALUES(NULL, 'Joe', NULL, 'Optimizer', NULL)\n",
    "```"
   ]
  },
  {
   "cell_type": "markdown",
   "metadata": {
    "slideshow": {
     "slide_type": "slide"
    }
   },
   "source": [
    "## Non-Updateable Views\n",
    "\n",
    "> \n",
    "* Consider the relations\n",
    "  ```mysql\n",
    "  Person(name, city)\n",
    "  Purchase(buyer, seller, product, store)\n",
    "  ```\n",
    "  and the view\n",
    "  ```mysql\n",
    "  CREATE VIEW  SeattleView  AS\n",
    "  SELECT seller, product, store\n",
    "  FROM   Person, Purchase\n",
    "  WHERE  Person.city = 'Seattle'\n",
    "         AND Person.name = Purchase.buyer\n",
    "  ```\n",
    "* How can we add the following tuple to the view?\n",
    "    ```mysql\n",
    "    ('Joe',  'Shoe Model 12345',  'Nine West')\n",
    "    ```\n",
    "\n",
    "* We need to add 'Joe' to _Person_ first.\n",
    "  * How?!\n",
    "  * One time?\n",
    "  * Multiple times?"
   ]
  },
  {
   "cell_type": "markdown",
   "metadata": {
    "slideshow": {
     "slide_type": "slide"
    }
   },
   "source": [
    "## Updating Views\n",
    "\n",
    "* Most SQL implementations allow updates <span style=\"color:red\"><b>only on simple views</b></span>. \n",
    "  * The ```FROM``` clause has only one database relation.\n",
    "  * The ```SELECT``` clause contains only attribute names of the relation.\n",
    "    * No expressions, aggregates, or distinct specification.\n",
    "  * Any attribute not listed in the ```SELECT``` clause can be set to ```NULL```.\n",
    "  * The query does not have a ```GROUP BY``` or ```HAVING``` clause."
   ]
  },
  {
   "cell_type": "markdown",
   "metadata": {
    "slideshow": {
     "slide_type": "slide"
    }
   },
   "source": [
    "## Updating Views\n",
    "\n",
    "* SQLite views are read-only and thus you may not be able to execute a DELETE, INSERT or UPDATE statement on a view.\n",
    "  * A workaround exists\n",
    "  * Not in the scope of this class\n",
    "  * This is why WITH CHECK OPTION is not implemented"
   ]
  },
  {
   "cell_type": "markdown",
   "metadata": {
    "slideshow": {
     "slide_type": "slide"
    }
   },
   "source": [
    "## Types of Views\n",
    "\n",
    "* __Virtual views__\n",
    "  * Used in databases\n",
    "  * Computed only __on-demand__ – _slow at runtime_\n",
    "  * Always up to date"
   ]
  },
  {
   "cell_type": "markdown",
   "metadata": {
    "slideshow": {
     "slide_type": "slide"
    }
   },
   "source": [
    "## Types of Views\n",
    "\n",
    "* __Materialized views__\n",
    "  * A physical table containing all the tuples in the result of the query defining the view\n",
    "  * Used in Data Warehouses (but recently also in DBMS)\n",
    "  * Precomputed offline – _fast at runtime_\n",
    "  * If relations used in the query are updated, the materialized view result becomes out of date\n",
    "    * Need to maintain the view, by updating the view whenever the underlying relations are updated."
   ]
  },
  {
   "cell_type": "markdown",
   "metadata": {
    "slideshow": {
     "slide_type": "notes"
    }
   },
   "source": [
    "## Data Warehouse\n",
    "\n",
    "* A relational database designed for query and analysis rather than for transaction processing.\n",
    "* Usually contains historical data derived from transaction data.\n",
    "* Separates analysis workload from transaction workload.\n",
    "* Enables an organization to consolidate data from several sources."
   ]
  },
  {
   "cell_type": "markdown",
   "metadata": {
    "slideshow": {
     "slide_type": "slide"
    }
   },
   "source": [
    "## Advantages/Disadvantages of Views\n",
    "\n",
    "|     ADVANTAGES     |     DISADVANTAGES     |\n",
    "|:------------------:|:---------------------:|\n",
    "|  Data independence |   Update restriction  |\n",
    "|      Currency      | Structure restriction |\n",
    "|  Improved security |      Performance      |\n",
    "| Reduced complexity |                       |\n",
    "|     Convenience    |                       |\n",
    "|    Customization   |                       |\n",
    "|   Data integrity   |                       |"
   ]
  },
  {
   "cell_type": "markdown",
   "metadata": {
    "slideshow": {
     "slide_type": "slide"
    }
   },
   "source": [
    "## Summary\n",
    "\n",
    "* A view is a stored query definition\n",
    "* Views can be very useful\n",
    "  * Privacy\n",
    "  * Easier query writing\n",
    "  * Extensibility\n",
    "* Not all views can be updated unambiguously\n",
    "* Three levels of abstraction in a relational DBMS\n",
    "  * Yields data independence, logical and physical"
   ]
  },
  {
   "cell_type": "markdown",
   "metadata": {
    "slideshow": {
     "slide_type": "slide"
    }
   },
   "source": [
    "# Access Rights in SQL\n",
    "\n",
    "* The SQL security model\n",
    "* Granting and revoking privileges"
   ]
  },
  {
   "cell_type": "markdown",
   "metadata": {
    "slideshow": {
     "slide_type": "slide"
    }
   },
   "source": [
    "## Discretionary Access Control\n",
    "\n",
    "* Each user is given appropriate access rights (_privileges_) on specific DB objects\n",
    "* Explicit grant of rights on objects to individuals.\n",
    "* Users obtain certain privileges when they create an object\n",
    "  * Can _pass_ some or all of these privileges to other users __at their discretion__\n",
    "* Although flexible, can be circumvented by devious unauthorized user tricking an authorized user into revealing sensitive data."
   ]
  },
  {
   "cell_type": "markdown",
   "metadata": {
    "slideshow": {
     "slide_type": "slide"
    }
   },
   "source": [
    "## Terminology\n",
    "\n",
    "* <span style=\"color:red\"><b>Privacy</b></span> Users should not be able to see and use data they are not supposed to.\n",
    "  > e.g., A student can't see other students' grades.\n",
    "* <span style=\"color:red\"><b>Security</b></span> No one should be able to enter the system and / or impact its behavior without being authorized to do so.\n",
    "  > e.g., Delete or change data without being authorized\n",
    "* <span style=\"color:red\"><b>Integrity</b></span> Authorized users should not be able to modify things they are not supposed to.\n",
    "  >e.g., Only instructors can assign grades.\n",
    "* <span style=\"color:red\"><b>Availability</b></span> Users should be able to see and modify things they are allowed to.\n",
    "  > e.g. The DB should always be operational"
   ]
  },
  {
   "cell_type": "markdown",
   "metadata": {
    "slideshow": {
     "slide_type": "slide"
    }
   },
   "source": [
    "## SQL Security Related Terminology\n",
    "\n",
    "* <span style=\"color:red\"><b>User</b></span>\n",
    "  * Not the schema object, just a name for a session of an individual user\n",
    "  * Identification by Authorization ID (user name)\n",
    "* <span style=\"color:red\"><b>Role</b></span>\n",
    "  * Name for a role, to which rights may be assigned\n",
    "  * May be granted to users / applications\n",
    "* <span style=\"color:red\"><b>Privileges</b></span> (Rights)\n",
    "  * System privileges\n",
    "  * Object (data) privileges: creator has all privileges\n",
    "* <span style=\"color:red\"><b>Operations</b></span>\n",
    "  * GRANT < privilege >\n",
    "  * REVOKE < privilege >"
   ]
  },
  {
   "cell_type": "markdown",
   "metadata": {
    "slideshow": {
     "slide_type": "slide"
    }
   },
   "source": [
    "## Roles and Users\n",
    "\n",
    "* __Roles__ define a set of privileges for a (potentially) large set of __Users__\n",
    "```mysql\n",
    "CREATE ROLE sales_people;\n",
    "-- grant some privileges to sales_people\n",
    "-- grant sales_people role to users\n",
    "```\n",
    "* Much more economic than direct privileges\n",
    "* Roles may be assigned to roles\n",
    "* Often assigned to applications instead of individual users"
   ]
  },
  {
   "cell_type": "markdown",
   "metadata": {
    "slideshow": {
     "slide_type": "slide"
    }
   },
   "source": [
    "## Privileges\n",
    "\n",
    "* Right to perform SQL statement type on objects\n",
    "* Assigned to users or roles (authorization IDs)\n",
    "* _Creator of object_: all privileges for that object\n",
    "* _Administrator_: management of system privileges"
   ]
  },
  {
   "cell_type": "markdown",
   "metadata": {
    "slideshow": {
     "slide_type": "slide"
    }
   },
   "source": [
    "## Privileges\n",
    "\n",
    "* The privileges defined by the ISO standard:\n",
    "  * SELECT - retrieve data from a table\n",
    "  * INSERT - insert new rows into a table\n",
    "  * UPDATE - modify rows of data in a table\n",
    "  * DELETE - delete rows of data from a table\n",
    "  * REFERENCE - reference columns of a named table in integrity constraints\n",
    "  * USAGE - use domains, collations, character sets, and translations"
   ]
  },
  {
   "cell_type": "markdown",
   "metadata": {
    "slideshow": {
     "slide_type": "slide"
    }
   },
   "source": [
    "## Grant Privileges\n",
    "\n",
    "* Syntax\n",
    "```mysql\n",
    "GRANT <privileges> ON <object>\n",
    "TO [<users>|<role>]\n",
    "[WITH GRANT OPTION]\n",
    "```\n",
    "\n",
    "* GRANT OPTION: Right to pass privilege on to other users\n",
    "  * Only owner can execute CREATE, ALTER, and DROP\n",
    "\n",
    "> __Example:__ Privilege to INSERT particular columns in a table\n",
    "```mysql\n",
    "GRANT INSERT\n",
    "ON <tablename(<attributenames>)>\n",
    "TO <users>\n",
    "[WITH GRANT OPTION]\n",
    "```\n",
    "\n",
    "* Access matrix : < user > has < right > on < object >"
   ]
  },
  {
   "cell_type": "markdown",
   "metadata": {
    "slideshow": {
     "slide_type": "slide"
    }
   },
   "source": [
    "## Examples\n",
    "\n",
    "> ```mysql\n",
    "GRANT INSERT, SELECT ON Movie TO Klaus\n",
    "```\n",
    "* Klaus can query __'Movie'__ or insert tuples into it.\n",
    "\n",
    "___\n",
    "> ```mysql\n",
    "GRANT DELETE ON Movie TO shop_owner WITH GRANT OPTION\n",
    "```\n",
    "* Anna can delete __'Movie'__ tuples, and also authorize others to do so\n",
    "\n",
    "___\n",
    "> ```mysql\n",
    "GRANT UPDATE (price_Day) ON Movie TO movie_staff\n",
    "```\n",
    "* Staff can update (only) the price field of __'Movie'__ tuples\n",
    "\n",
    "___\n",
    "> ```mysql\n",
    "GRANT SELECT ON MovieView TO Customers\n",
    "```\n",
    "* This does NOT allow the customers to query __'Movie'__ directly!\n"
   ]
  },
  {
   "cell_type": "markdown",
   "metadata": {
    "slideshow": {
     "slide_type": "slide"
    }
   },
   "source": [
    "## Revoke Privileges\n",
    "\n",
    "* Syntax\n",
    "```mysql\n",
    "REVOKE <privileges>\n",
    "ON <object>\n",
    "FROM <users>\n",
    "[RESTRICT | CASCADE]\n",
    "```\n",
    "* RESTRICT: only revoke if none of the privileges have been granted by these users.\n",
    "* CASCADE: revoke from all users that have been granted the privilege by these users.\n",
    "* Privilege given from different users must be revoked from all users to loose privilege."
   ]
  },
  {
   "cell_type": "markdown",
   "metadata": {
    "slideshow": {
     "slide_type": "slide"
    }
   },
   "source": [
    "## Summary\n",
    "\n",
    "* Security of DB and their applications is extremely important.\n",
    "* Roles make privileges with many users manageable.\n",
    "* Views also play an important role.\n",
    "* Fine granular access restriction on objects is very important.\n",
    "\n",
    "\n",
    "\n",
    "<center><img src=\"./figures/sql-xkcd.png\" width=\"40%\"></center>\n",
    "\n",
    "<sub>https://www.xkcd.com/327/</sub>"
   ]
  },
  {
   "cell_type": "markdown",
   "metadata": {
    "slideshow": {
     "slide_type": "skip"
    }
   },
   "source": [
    "---"
   ]
  },
  {
   "cell_type": "code",
   "execution_count": 1,
   "metadata": {
    "slideshow": {
     "slide_type": "skip"
    }
   },
   "outputs": [
    {
     "data": {
      "text/html": [
       "<link href='http://fonts.googleapis.com/css?family=Fenix' rel='stylesheet' type='text/css'>\n",
       "<link href='http://fonts.googleapis.com/css?family=Alegreya+Sans:100,300,400,500,700,800,900,100italic,300italic,400italic,500italic,700italic,800italic,900italic' rel='stylesheet' type='text/css'>\n",
       "<link href='http://fonts.googleapis.com/css?family=Source+Code+Pro:300,400' rel='stylesheet' type='text/css'>\n",
       "<link href=\"https://fonts.googleapis.com/css?family=Oswald|Raleway\" rel=\"stylesheet\" type='text/css'> \n",
       "<link href=\"https://fonts.googleapis.com/css?family=Nunito\" rel=\"stylesheet\" type='text/css'> \n",
       "<style>\n",
       ".prompt{\n",
       "    display: none !important;\n",
       "}\n",
       "\n",
       ".rendered_html pre {\n",
       "    border: 1px solid #f0f6f9 !important;\n",
       "}\n",
       "\n",
       ".rendered_html pre, .rendered_html code {\n",
       "    background-color: #d3d8db !important;\n",
       "    padding: 1% !important;\n",
       "    line-height: 200% !important;\n",
       "    border-radius: 10px !important;\n",
       "}\n",
       "\n",
       "div.input_area {\n",
       "    border-radius: 10px !important;\n",
       "    background-color: #e1e1e6 !important;\n",
       "}\n",
       "\n",
       "div.cell{\n",
       "        width:85% !important;\n",
       "        margin-left:5% !important;\n",
       "        /*margin-right:auto;*/\n",
       "    }\n",
       "    h1, h2, h3, h4, h5 {\n",
       "        font-family: 'Nunito', sans-serif; !important;\n",
       "        font-style: oblique !important;\n",
       "    }\n",
       "    div.text_cell_render{\n",
       "        font-family: 'Raleway', sans-serif; !important;\n",
       "        line-height: 135% !important;\n",
       "        font-size: 120% !important;\n",
       "        width:100%;/*600px;*/\n",
       "        /*margin-left:auto;*/\n",
       "        /*margin-right:auto;*/\n",
       "    }\n",
       "    .CodeMirror{\n",
       "            font-family: \"Source Code Pro\" !important;\n",
       "\t\t\tfont-size: 100% !important;\n",
       "    }\n",
       "    .text_cell_render p{\n",
       "        text-align: justify !important;\n",
       "    }\n",
       "    .text_cell_render h1 {\n",
       "        font-weight: bold !important;\n",
       "\t\tline-height: 100% !important;\n",
       "        color:#47597A !important;\n",
       "        margin-bottom: 10.em !important;\n",
       "        margin-top: 50.em !important;\n",
       "        padding-bottom: 50.em !important;\n",
       "        padding-top: 50.em !important;\n",
       "        display: block !important;\n",
       "        font-size: 300% !important;\n",
       "        text-align: center !important;\n",
       "        border-bottom: 1px solid #47597A !important;\n",
       "        border-top: 1px solid #47597A !important;\n",
       "    }\n",
       "    .text_cell_render h2 {\n",
       "        font-weight: 200 !important;\n",
       "\tline-height: 100% !important;\n",
       "        color:#47597A !important;\n",
       "        margin-bottom: 0.5em !important;\n",
       "        margin-top: 0.5em !important;\n",
       "        display: block !important;\n",
       "        font-size: 200% !important;\n",
       "        border-bottom: 1px solid #47597A !important;\n",
       "    }\n",
       "    .text_cell_render h3 {\n",
       "        font-weight: 200 !important;\n",
       "\tline-height: 100% !important;\n",
       "        color:#47597A !important;\n",
       "        margin-bottom: 0.5em !important;\n",
       "        margin-top: 0.5em !important;\n",
       "        display: block !important;\n",
       "        font-size: 200% !important;\n",
       "    }\n",
       "    .text_cell_render h4 {\n",
       "        font-style: italic !important;\n",
       "        font-weight: bold !important;\n",
       "\tline-height: 100% !important;\n",
       "        color:#47597A !important;\n",
       "        display: block !important;\n",
       "        font-size: 100% !important;\n",
       "    }\n",
       "    .text_cell_render h5 {\n",
       "        font-weight: 200 !important;\n",
       "\tline-height: 100% !important;\n",
       "        color:#47597A !important;\n",
       "        margin-bottom: 0.5em !important;\n",
       "        margin-top: 0.5em !important;\n",
       "        display: block !important;\n",
       "        font-size: 100% !important;\n",
       "    }\n",
       "    .text_cell_render ul {\n",
       "\tlist-style-type: disc !important;\n",
       "\tcolor:#47597A !important;\n",
       "    }\n",
       "    .warning{\n",
       "        color: rgb( 240, 20, 20 ) !important;\n",
       "        }\n",
       "\n",
       "    .toc-item-num {\n",
       "        display: none;\n",
       "    }\n",
       "  \n",
       "</style>\n",
       "\n",
       "<script>\n",
       "    MathJax.Hub.Config({\n",
       "                        TeX: {\n",
       "                           extensions: [\"AMSmath.js\"],\n",
       "                           },\n",
       "                tex2jax: {\n",
       "                    inlineMath: [ ['$','$'], [\"\\\\(\",\"\\\\)\"] ],\n",
       "                    displayMath: [ ['$$','$$'], [\"\\\\[\",\"\\\\]\"] ]\n",
       "                },\n",
       "                displayAlign: 'center', // Change this to 'center' to center equations.\n",
       "                \"HTML-CSS\": {\n",
       "                    styles: {'.MathJax_Display': {\"margin\": 4}}\n",
       "                }\n",
       "        });\n",
       "</script>\n"
      ],
      "text/plain": [
       "<IPython.core.display.HTML object>"
      ]
     },
     "execution_count": 1,
     "metadata": {},
     "output_type": "execute_result"
    }
   ],
   "source": [
    "# Modify the css style\n",
    "from IPython.core.display import HTML\n",
    "def css_styling():\n",
    "    styles = open(\"./style/custom.css\").read()\n",
    "    return HTML(styles)\n",
    "css_styling()"
   ]
  },
  {
   "cell_type": "code",
   "execution_count": null,
   "metadata": {
    "collapsed": true,
    "slideshow": {
     "slide_type": "skip"
    }
   },
   "outputs": [],
   "source": []
  }
 ],
 "metadata": {
  "celltoolbar": "Slideshow",
  "kernelspec": {
   "display_name": "Python [conda root]",
   "language": "python",
   "name": "conda-root-py"
  },
  "language_info": {
   "codemirror_mode": {
    "name": "ipython",
    "version": 3
   },
   "file_extension": ".py",
   "mimetype": "text/x-python",
   "name": "python",
   "nbconvert_exporter": "python",
   "pygments_lexer": "ipython3",
   "version": "3.5.5"
  }
 },
 "nbformat": 4,
 "nbformat_minor": 2
}
