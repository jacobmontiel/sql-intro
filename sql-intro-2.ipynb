{
 "cells": [
  {
   "cell_type": "markdown",
   "metadata": {
    "slideshow": {
     "slide_type": "slide"
    }
   },
   "source": [
    "## CREATE TABLE\n",
    "\n",
    "Used to create a new table in a database.\n",
    "\n",
    "Syntax\n",
    "```mysql\n",
    "CREATE TABLE table_name (\n",
    "    column1 datatype,\n",
    "    column2 datatype,\n",
    "    column3 datatype,\n",
    "   ....\n",
    ");\n",
    "```"
   ]
  },
  {
   "cell_type": "markdown",
   "metadata": {
    "slideshow": {
     "slide_type": "slide"
    }
   },
   "source": [
    "Constraints can be specified when the table is created with the CREATE TABLE statement, or after the table is created with the ALTER TABLE statement.\n",
    "\n",
    "Option 1\n",
    "\n",
    "```mysql\n",
    "CREATE TABLE table_name (\n",
    "    column1 datatype constraint,\n",
    "    column2 datatype constraint,\n",
    "    column3 datatype constraint,\n",
    "    ....\n",
    ");\n",
    "```"
   ]
  },
  {
   "cell_type": "markdown",
   "metadata": {
    "slideshow": {
     "slide_type": "slide"
    }
   },
   "source": [
    "Constraints can be specified when the table is created with the CREATE TABLE statement, or after the table is created with the ALTER TABLE statement.\n",
    "\n",
    "Option 2\n",
    "\n",
    "```mysql\n",
    "CREATE TABLE table_name (\n",
    "    column1 datatype,\n",
    "    column2 datatype,\n",
    "    column3 datatype,\n",
    "    constraint1,\n",
    "    constraint2,\n",
    "    ....\n",
    ");\n",
    "```"
   ]
  },
  {
   "cell_type": "markdown",
   "metadata": {
    "slideshow": {
     "slide_type": "slide"
    }
   },
   "source": [
    "## INSERT INTO\n",
    "\n",
    "Used to insert new records in a table.\n",
    "\n",
    "Syntax\n",
    "\n",
    "```mysql\n",
    "INSERT INTO table_name (column1, column2, column3, ...)\n",
    "VALUES (value1, value2, value3, ...);\n",
    "```"
   ]
  },
  {
   "cell_type": "markdown",
   "metadata": {
    "slideshow": {
     "slide_type": "slide"
    }
   },
   "source": [
    "> __Example:__ Create \"Product\" table and insert some data\n",
    "\n",
    ">> In this notebook we use SQL Magic for Python (https://github.com/catherinedevlin/ipython-sql)\n",
    "\n",
    ">> There are several online options, for example\n",
    "https://sqliteonline.com/"
   ]
  },
  {
   "cell_type": "code",
   "execution_count": 1,
   "metadata": {
    "slideshow": {
     "slide_type": "fragment"
    }
   },
   "outputs": [
    {
     "data": {
      "text/plain": [
       "'Connected: None@None'"
      ]
     },
     "execution_count": 1,
     "metadata": {},
     "output_type": "execute_result"
    }
   ],
   "source": [
    "%load_ext sql\n",
    "# Connect to an empty SQLite database\n",
    "%sql sqlite://"
   ]
  },
  {
   "cell_type": "code",
   "execution_count": 2,
   "metadata": {
    "slideshow": {
     "slide_type": "-"
    }
   },
   "outputs": [
    {
     "name": "stdout",
     "output_type": "stream",
     "text": [
      "Done.\n"
     ]
    },
    {
     "data": {
      "text/html": [
       "<table>\n",
       "    <tr>\n",
       "        <th>name</th>\n",
       "    </tr>\n",
       "</table>"
      ],
      "text/plain": [
       "[]"
      ]
     },
     "execution_count": 2,
     "metadata": {},
     "output_type": "execute_result"
    }
   ],
   "source": [
    "%sql SELECT name FROM sqlite_master WHERE type='table';"
   ]
  },
  {
   "cell_type": "code",
   "execution_count": 3,
   "metadata": {
    "format": "row",
    "slideshow": {
     "slide_type": "slide"
    }
   },
   "outputs": [
    {
     "name": "stdout",
     "output_type": "stream",
     "text": [
      "Done.\n",
      "Done.\n",
      "1 rows affected.\n",
      "1 rows affected.\n",
      "1 rows affected.\n",
      "1 rows affected.\n"
     ]
    },
    {
     "data": {
      "text/plain": [
       "[]"
      ]
     },
     "execution_count": 3,
     "metadata": {},
     "output_type": "execute_result"
    }
   ],
   "source": [
    "%%sql\n",
    "DROP TABLE IF EXISTS Product;\n",
    "CREATE TABLE Product (\n",
    "    PName VARCHAR(255) NOT NULL PRIMARY KEY, \n",
    "    Price FLOAT, \n",
    "    Category VARCHAR(255), \n",
    "    Manufacturer VARCHAR(255)\n",
    ");\n",
    "INSERT INTO Product VALUES ('Gizmo', 19.99, 'Gadgets', 'Gizmo Works');\n",
    "INSERT INTO Product VALUES ('Powergizmo', 29.99, 'Gadgets', 'Gizmo Works');\n",
    "INSERT INTO Product VALUES ('SingleTouch', 149.99, 'Photography', 'Canon');\n",
    "INSERT INTO Product VALUES ('MultiTouch', 203.99, 'Household', 'Hitachi');"
   ]
  },
  {
   "cell_type": "code",
   "execution_count": 4,
   "metadata": {
    "format": "row",
    "slideshow": {
     "slide_type": "-"
    }
   },
   "outputs": [
    {
     "name": "stdout",
     "output_type": "stream",
     "text": [
      "Done.\n"
     ]
    },
    {
     "data": {
      "text/html": [
       "<table>\n",
       "    <tr>\n",
       "        <th>name</th>\n",
       "    </tr>\n",
       "    <tr>\n",
       "        <td>Product</td>\n",
       "    </tr>\n",
       "</table>"
      ],
      "text/plain": [
       "[('Product',)]"
      ]
     },
     "execution_count": 4,
     "metadata": {},
     "output_type": "execute_result"
    }
   ],
   "source": [
    "# Find tables in the database\n",
    "%sql SELECT name FROM sqlite_master WHERE type='table';"
   ]
  },
  {
   "cell_type": "markdown",
   "metadata": {
    "slideshow": {
     "slide_type": "slide"
    }
   },
   "source": [
    "# Single-Table Queries\n",
    "\n",
    "In this section\n",
    "1. The **SFW** Query\n",
    "2. Other useful operators: **LIKE, DISTINCT, ORDER BY**"
   ]
  },
  {
   "cell_type": "markdown",
   "metadata": {
    "slideshow": {
     "slide_type": "slide"
    }
   },
   "source": [
    "### SQL Query\n",
    "\n",
    "* Basic form --> __SFW__ query\n",
    "\n",
    "```mysql\n",
    "SELECT <attributes>\n",
    "FROM <relations>\n",
    "WHERE <conditions>\n",
    "```"
   ]
  },
  {
   "cell_type": "code",
   "execution_count": 5,
   "metadata": {
    "slideshow": {
     "slide_type": "fragment"
    }
   },
   "outputs": [
    {
     "name": "stdout",
     "output_type": "stream",
     "text": [
      "Done.\n"
     ]
    },
    {
     "data": {
      "text/html": [
       "<table>\n",
       "    <tr>\n",
       "        <th>PName</th>\n",
       "        <th>Price</th>\n",
       "        <th>Category</th>\n",
       "        <th>Manufacturer</th>\n",
       "    </tr>\n",
       "    <tr>\n",
       "        <td>Gizmo</td>\n",
       "        <td>19.99</td>\n",
       "        <td>Gadgets</td>\n",
       "        <td>Gizmo Works</td>\n",
       "    </tr>\n",
       "    <tr>\n",
       "        <td>Powergizmo</td>\n",
       "        <td>29.99</td>\n",
       "        <td>Gadgets</td>\n",
       "        <td>Gizmo Works</td>\n",
       "    </tr>\n",
       "    <tr>\n",
       "        <td>SingleTouch</td>\n",
       "        <td>149.99</td>\n",
       "        <td>Photography</td>\n",
       "        <td>Canon</td>\n",
       "    </tr>\n",
       "    <tr>\n",
       "        <td>MultiTouch</td>\n",
       "        <td>203.99</td>\n",
       "        <td>Household</td>\n",
       "        <td>Hitachi</td>\n",
       "    </tr>\n",
       "</table>"
      ],
      "text/plain": [
       "[('Gizmo', 19.99, 'Gadgets', 'Gizmo Works'),\n",
       " ('Powergizmo', 29.99, 'Gadgets', 'Gizmo Works'),\n",
       " ('SingleTouch', 149.99, 'Photography', 'Canon'),\n",
       " ('MultiTouch', 203.99, 'Household', 'Hitachi')]"
      ]
     },
     "execution_count": 5,
     "metadata": {},
     "output_type": "execute_result"
    }
   ],
   "source": [
    "%%sql  -- Without WHERE, the query returns all data in the table(s) defined in FROM\n",
    "SELECT *\n",
    "FROM Product;"
   ]
  },
  {
   "cell_type": "markdown",
   "metadata": {
    "slideshow": {
     "slide_type": "slide"
    }
   },
   "source": [
    "## SELECT\n",
    "\n",
    "__Selection__ is the operation of filtering tuples in a relation on some condition\n",
    "\n",
    "Syntax\n",
    "\n",
    "```mysql\n",
    "SELECT column1, column2, ...\n",
    "FROM table_name\n",
    "WHERE condition;\n",
    "```"
   ]
  },
  {
   "cell_type": "markdown",
   "metadata": {
    "slideshow": {
     "slide_type": "slide"
    }
   },
   "source": [
    "> __Example:__ Select all the tuples from \"Product\" with category 'Gadgets'"
   ]
  },
  {
   "cell_type": "code",
   "execution_count": 6,
   "metadata": {
    "format": "row",
    "slideshow": {
     "slide_type": "fragment"
    }
   },
   "outputs": [
    {
     "name": "stdout",
     "output_type": "stream",
     "text": [
      "Done.\n"
     ]
    },
    {
     "data": {
      "text/html": [
       "<table>\n",
       "    <tr>\n",
       "        <th>PName</th>\n",
       "        <th>Price</th>\n",
       "        <th>Category</th>\n",
       "        <th>Manufacturer</th>\n",
       "    </tr>\n",
       "    <tr>\n",
       "        <td>Gizmo</td>\n",
       "        <td>19.99</td>\n",
       "        <td>Gadgets</td>\n",
       "        <td>Gizmo Works</td>\n",
       "    </tr>\n",
       "    <tr>\n",
       "        <td>Powergizmo</td>\n",
       "        <td>29.99</td>\n",
       "        <td>Gadgets</td>\n",
       "        <td>Gizmo Works</td>\n",
       "    </tr>\n",
       "</table>"
      ],
      "text/plain": [
       "[('Gizmo', 19.99, 'Gadgets', 'Gizmo Works'),\n",
       " ('Powergizmo', 29.99, 'Gadgets', 'Gizmo Works')]"
      ]
     },
     "execution_count": 6,
     "metadata": {},
     "output_type": "execute_result"
    }
   ],
   "source": [
    "%%sql  -- Tuples in 'Gadgets'\n",
    "SELECT *\n",
    "FROM Product\n",
    "WHERE Category = 'Gadgets';"
   ]
  },
  {
   "cell_type": "markdown",
   "metadata": {
    "slideshow": {
     "slide_type": "slide"
    }
   },
   "source": [
    "### Projection\n",
    "\n",
    "The operation of producing an output table with tuples that have a subset of their prior attributes.\n",
    "\n",
    "> __Example:__ In the previous example, the attribute \"Category\" is redundant, remove it from the result."
   ]
  },
  {
   "cell_type": "code",
   "execution_count": 7,
   "metadata": {
    "format": "row",
    "slideshow": {
     "slide_type": "fragment"
    }
   },
   "outputs": [
    {
     "name": "stdout",
     "output_type": "stream",
     "text": [
      "Done.\n"
     ]
    },
    {
     "data": {
      "text/html": [
       "<table>\n",
       "    <tr>\n",
       "        <th>PName</th>\n",
       "        <th>Price</th>\n",
       "        <th>Manufacturer</th>\n",
       "    </tr>\n",
       "    <tr>\n",
       "        <td>Gizmo</td>\n",
       "        <td>19.99</td>\n",
       "        <td>Gizmo Works</td>\n",
       "    </tr>\n",
       "    <tr>\n",
       "        <td>Powergizmo</td>\n",
       "        <td>29.99</td>\n",
       "        <td>Gizmo Works</td>\n",
       "    </tr>\n",
       "</table>"
      ],
      "text/plain": [
       "[('Gizmo', 19.99, 'Gizmo Works'), ('Powergizmo', 29.99, 'Gizmo Works')]"
      ]
     },
     "execution_count": 7,
     "metadata": {},
     "output_type": "execute_result"
    }
   ],
   "source": [
    "%%sql\n",
    "SELECT PName, Price, Manufacturer \n",
    "FROM Product\n",
    "WHERE Category = 'Gadgets';"
   ]
  },
  {
   "cell_type": "markdown",
   "metadata": {
    "slideshow": {
     "slide_type": "-"
    }
   },
   "source": [
    "_Input schema:_ Product(PName, Price, Category, Manufacturer)\n",
    "\n",
    "_Output schema:_ Answer(PName, Price, Manufacturer)"
   ]
  },
  {
   "cell_type": "markdown",
   "metadata": {
    "slideshow": {
     "slide_type": "slide"
    }
   },
   "source": [
    "### To consider\n",
    "* SQL __commands__ are __NOT__ case sensitive\n",
    "  * __Same:__ SELECT, Select, select\n",
    "  * __Same:__ Product, product\n",
    "\n",
    "\n",
    "* __Values__ are case sensitive\n",
    "  * __Different:__ 'Seatle', 'seatle'\n",
    "\n",
    "\n",
    "* __S__ingle quotes are for __S__trings, __D__ouble quotes are for __D__atabase identifiers"
   ]
  },
  {
   "cell_type": "markdown",
   "metadata": {
    "slideshow": {
     "slide_type": "slide"
    }
   },
   "source": [
    "## Other WHERE Clause Conditions\n",
    "\n",
    "__Equality__\n",
    "* = (equal)\n",
    "* <> (not equal)\n",
    "\n",
    "__Range__\n",
    "* \\> (greater than)\n",
    "* \\>=  (greater than or equal to)\n",
    "* < (less than)\n",
    "* <= (less than or equal to)\n",
    "* BETWEEN\n",
    "\n",
    "__Membership__\n",
    "* IN (matches values in a list or subquery)"
   ]
  },
  {
   "cell_type": "markdown",
   "metadata": {
    "collapsed": true,
    "slideshow": {
     "slide_type": "slide"
    }
   },
   "source": [
    "## LIKE\n",
    "\n",
    "Simple String pattern matching\n",
    "\n",
    "Syntax\n",
    "\n",
    "```mysql\n",
    "SELECT column1, column2, ...\n",
    "FROM table_name\n",
    "WHERE columnN LIKE pattern;\n",
    "```\n",
    "\n",
    "There are two wildcards used in conjunction with the LIKE operator\n",
    "* __%__ (percent) any sequence of characters\n",
    "* __\\___ (underscore) any single character"
   ]
  },
  {
   "cell_type": "code",
   "execution_count": 8,
   "metadata": {
    "slideshow": {
     "slide_type": "fragment"
    }
   },
   "outputs": [
    {
     "name": "stdout",
     "output_type": "stream",
     "text": [
      "Done.\n"
     ]
    },
    {
     "data": {
      "text/html": [
       "<table>\n",
       "    <tr>\n",
       "        <th>PName</th>\n",
       "        <th>Price</th>\n",
       "        <th>Category</th>\n",
       "        <th>Manufacturer</th>\n",
       "    </tr>\n",
       "    <tr>\n",
       "        <td>Gizmo</td>\n",
       "        <td>19.99</td>\n",
       "        <td>Gadgets</td>\n",
       "        <td>Gizmo Works</td>\n",
       "    </tr>\n",
       "    <tr>\n",
       "        <td>Powergizmo</td>\n",
       "        <td>29.99</td>\n",
       "        <td>Gadgets</td>\n",
       "        <td>Gizmo Works</td>\n",
       "    </tr>\n",
       "</table>"
      ],
      "text/plain": [
       "[('Gizmo', 19.99, 'Gadgets', 'Gizmo Works'),\n",
       " ('Powergizmo', 29.99, 'Gadgets', 'Gizmo Works')]"
      ]
     },
     "execution_count": 8,
     "metadata": {},
     "output_type": "execute_result"
    }
   ],
   "source": [
    "%%sql\n",
    "SELECT *\n",
    "FROM   Product\n",
    "WHERE  PName LIKE '%gizmo%';"
   ]
  },
  {
   "cell_type": "markdown",
   "metadata": {
    "slideshow": {
     "slide_type": "slide"
    }
   },
   "source": [
    "## DISTINCT\n",
    "\n",
    "Removes duplicates from query results\n",
    "\n",
    "Syntax\n",
    "\n",
    "```mysql\n",
    "SELECT DISTINCT column1, column2, ...\n",
    "FROM table_name;\n",
    "```\n",
    "\n",
    "> __Example:__ Show categories in \"Product\""
   ]
  },
  {
   "cell_type": "code",
   "execution_count": 9,
   "metadata": {
    "slideshow": {
     "slide_type": "fragment"
    }
   },
   "outputs": [
    {
     "name": "stdout",
     "output_type": "stream",
     "text": [
      "Done.\n"
     ]
    },
    {
     "data": {
      "text/html": [
       "<table>\n",
       "    <tr>\n",
       "        <th>Category</th>\n",
       "    </tr>\n",
       "    <tr>\n",
       "        <td>Gadgets</td>\n",
       "    </tr>\n",
       "    <tr>\n",
       "        <td>Gadgets</td>\n",
       "    </tr>\n",
       "    <tr>\n",
       "        <td>Photography</td>\n",
       "    </tr>\n",
       "    <tr>\n",
       "        <td>Household</td>\n",
       "    </tr>\n",
       "</table>"
      ],
      "text/plain": [
       "[('Gadgets',), ('Gadgets',), ('Photography',), ('Household',)]"
      ]
     },
     "execution_count": 9,
     "metadata": {},
     "output_type": "execute_result"
    }
   ],
   "source": [
    "%%sql\n",
    "SELECT Category\n",
    "FROM   Product;"
   ]
  },
  {
   "cell_type": "markdown",
   "metadata": {
    "slideshow": {
     "slide_type": "slide"
    }
   },
   "source": [
    "> __Example:__ Show __distinct__ categories in \"Product\""
   ]
  },
  {
   "cell_type": "code",
   "execution_count": 10,
   "metadata": {
    "slideshow": {
     "slide_type": "fragment"
    }
   },
   "outputs": [
    {
     "name": "stdout",
     "output_type": "stream",
     "text": [
      "Done.\n"
     ]
    },
    {
     "data": {
      "text/html": [
       "<table>\n",
       "    <tr>\n",
       "        <th>Category</th>\n",
       "    </tr>\n",
       "    <tr>\n",
       "        <td>Gadgets</td>\n",
       "    </tr>\n",
       "    <tr>\n",
       "        <td>Photography</td>\n",
       "    </tr>\n",
       "    <tr>\n",
       "        <td>Household</td>\n",
       "    </tr>\n",
       "</table>"
      ],
      "text/plain": [
       "[('Gadgets',), ('Photography',), ('Household',)]"
      ]
     },
     "execution_count": 10,
     "metadata": {},
     "output_type": "execute_result"
    }
   ],
   "source": [
    "%%sql\n",
    "SELECT DISTINCT Category\n",
    "FROM Product;"
   ]
  },
  {
   "cell_type": "markdown",
   "metadata": {
    "slideshow": {
     "slide_type": "slide"
    }
   },
   "source": [
    "## ORDER BY\n",
    "\n",
    "To sort results\n",
    "\n",
    "Syntax\n",
    "\n",
    "```mysql\n",
    "SELECT column1, column2, ...\n",
    "FROM table_name\n",
    "ORDER BY column1, column2, ... [ASC|DESC];\n",
    "```\n",
    "\n",
    "* Ties are broken by the second attribute on the ORDER BY list\n",
    "* Default ordering is _Ascending_"
   ]
  },
  {
   "cell_type": "markdown",
   "metadata": {
    "slideshow": {
     "slide_type": "slide"
    }
   },
   "source": [
    "> __Example:__ Get entries from \"Product\" where category is not 'Gadgets' and price is above 50. Sort results by price and name."
   ]
  },
  {
   "cell_type": "code",
   "execution_count": 11,
   "metadata": {
    "slideshow": {
     "slide_type": "fragment"
    }
   },
   "outputs": [
    {
     "name": "stdout",
     "output_type": "stream",
     "text": [
      "Done.\n"
     ]
    },
    {
     "data": {
      "text/html": [
       "<table>\n",
       "    <tr>\n",
       "        <th>PName</th>\n",
       "        <th>Price</th>\n",
       "        <th>Manufacturer</th>\n",
       "    </tr>\n",
       "    <tr>\n",
       "        <td>SingleTouch</td>\n",
       "        <td>149.99</td>\n",
       "        <td>Canon</td>\n",
       "    </tr>\n",
       "    <tr>\n",
       "        <td>MultiTouch</td>\n",
       "        <td>203.99</td>\n",
       "        <td>Hitachi</td>\n",
       "    </tr>\n",
       "</table>"
      ],
      "text/plain": [
       "[('SingleTouch', 149.99, 'Canon'), ('MultiTouch', 203.99, 'Hitachi')]"
      ]
     },
     "execution_count": 11,
     "metadata": {},
     "output_type": "execute_result"
    }
   ],
   "source": [
    "%%sql\n",
    "SELECT PName, Price, Manufacturer\n",
    "FROM Product\n",
    "WHERE Category != 'Gadgets' and Price > 50\n",
    "ORDER BY Price, PName"
   ]
  },
  {
   "cell_type": "markdown",
   "metadata": {
    "slideshow": {
     "slide_type": "skip"
    }
   },
   "source": [
    "___"
   ]
  },
  {
   "cell_type": "code",
   "execution_count": 12,
   "metadata": {
    "slideshow": {
     "slide_type": "skip"
    }
   },
   "outputs": [],
   "source": [
    "# Modify the css style\n",
    "# from IPython.core.display import HTML\n",
    "# def css_styling():\n",
    "#     styles = open(\"./style/custom.css\").read()\n",
    "#     return HTML(styles)\n",
    "# css_styling()"
   ]
  },
  {
   "cell_type": "code",
   "execution_count": null,
   "metadata": {
    "slideshow": {
     "slide_type": "skip"
    }
   },
   "outputs": [],
   "source": []
  }
 ],
 "metadata": {
  "celltoolbar": "Slideshow",
  "kernelspec": {
   "display_name": "Python [default]",
   "language": "python",
   "name": "python3"
  },
  "language_info": {
   "codemirror_mode": {
    "name": "ipython",
    "version": 3
   },
   "file_extension": ".py",
   "mimetype": "text/x-python",
   "name": "python",
   "nbconvert_exporter": "python",
   "pygments_lexer": "ipython3",
   "version": "3.5.5"
  }
 },
 "nbformat": 4,
 "nbformat_minor": 2
}
